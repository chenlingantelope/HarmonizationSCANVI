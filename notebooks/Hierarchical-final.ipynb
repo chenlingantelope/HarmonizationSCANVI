{
 "cells": [
  {
   "cell_type": "code",
   "execution_count": 1,
   "metadata": {},
   "outputs": [],
   "source": [
    "import os\n",
    "os.chdir(\"/home/ec2-user/scVI/\")\n",
    "os.getcwd()\n",
    "\n",
    "from scvi.dataset.MouseBrain import ZeiselMoleArchData\n"
   ]
  },
  {
   "cell_type": "code",
   "execution_count": 33,
   "metadata": {},
   "outputs": [],
   "source": [
    "\n",
    "import matplotlib\n",
    "matplotlib.rcParams['pdf.fonttype'] = 42\n",
    "matplotlib.rcParams['ps.fonttype'] = 42\n",
    "import matplotlib.pyplot as plt\n",
    "import seaborn as sns\n",
    "%matplotlib inline\n",
    "\n",
    "from umap import UMAP\n",
    "\n",
    "use_cuda = True\n",
    "import torch"
   ]
  },
  {
   "cell_type": "code",
   "execution_count": 3,
   "metadata": {},
   "outputs": [],
   "source": [
    "from scvi.inference.annotation import compute_accuracy_tuple"
   ]
  },
  {
   "cell_type": "markdown",
   "metadata": {},
   "source": [
    "# import scVI models\n"
   ]
  },
  {
   "cell_type": "code",
   "execution_count": 4,
   "metadata": {},
   "outputs": [],
   "source": [
    "\n",
    "from scvi.inference import UnsupervisedTrainer, SemiSupervisedTrainer\n",
    "from scvi.models.scanvi import SCANVI\n",
    "from scvi.models.vae import VAE"
   ]
  },
  {
   "cell_type": "code",
   "execution_count": 5,
   "metadata": {},
   "outputs": [],
   "source": [
    "import numpy as np"
   ]
  },
  {
   "cell_type": "code",
   "execution_count": 7,
   "metadata": {},
   "outputs": [],
   "source": [
    "gene_dataset = ZeiselMoleArchData()"
   ]
  },
  {
   "cell_type": "code",
   "execution_count": 8,
   "metadata": {},
   "outputs": [],
   "source": [
    "gene_dataset_fine = ZeiselMoleArchData(coarse=False)"
   ]
  },
  {
   "cell_type": "code",
   "execution_count": 9,
   "metadata": {},
   "outputs": [
    {
     "name": "stdout",
     "output_type": "stream",
     "text": [
      "The number of classes in the coarse data is 39\n",
      "\n",
      "The number of classes in the fine data is 265\n",
      "\n",
      "the mapping of fine to coarse labels is Correct\n",
      "\n"
     ]
    }
   ],
   "source": [
    "print(\"The number of classes in the coarse data is %i\\n\" % len(np.unique(gene_dataset.labels)))\n",
    "print(\"The number of classes in the fine data is %i\\n\" % len(np.unique(gene_dataset_fine.labels)))\n",
    "if np.sum([gene_dataset_fine.labels_groups[x] for x in gene_dataset_fine.labels.ravel()] == gene_dataset.labels.ravel()) == len(gene_dataset_fine):\n",
    "    print(\"the mapping of fine to coarse labels is Correct\\n\") \n",
    "else: print(\"check that labels_groups is right\")\n",
    "     \n"
   ]
  },
  {
   "cell_type": "code",
   "execution_count": 10,
   "metadata": {},
   "outputs": [
    {
     "name": "stdout",
     "output_type": "stream",
     "text": [
      "Downsampling from 27998 to 1001 genes\n",
      "Downsampling from 160796 to 160796 cells\n",
      "Downsampling from 27998 to 1001 genes\n",
      "Downsampling from 160796 to 160796 cells\n"
     ]
    }
   ],
   "source": [
    "import pandas as pd\n",
    "genes1 = pd.read_table('../Zeisel/Zeisel.1.hvg_info.csv', delimiter=',')\n",
    "geneid1 = np.asarray([x.replace('gene_', '') for x in genes1[genes1.keys()[0]]]).astype('int')\n",
    "genenames1 = genes1['genename']\n",
    "assert np.sum(np.asarray(genenames1) == gene_dataset.gene_names) == len(gene_dataset.gene_names)\n",
    "genes = gene_dataset.gene_names[geneid1[:1000]]\n",
    "from scvi.harmonization.utils_chenling import subsetByGenenames\n",
    "gene_dataset = subsetByGenenames(gene_dataset,genes)\n",
    "gene_dataset_fine = subsetByGenenames(gene_dataset_fine,genes)"
   ]
  },
  {
   "cell_type": "code",
   "execution_count": 11,
   "metadata": {},
   "outputs": [
    {
     "data": {
      "text/plain": [
       "VAE(\n",
       "  (z_encoder): Encoder(\n",
       "    (encoder): FCLayers(\n",
       "      (fc_layers): Sequential(\n",
       "        (Layer 0): Sequential(\n",
       "          (linear_0): Linear(in_features=1001, out_features=128, bias=True)\n",
       "          (batch_norm_0): BatchNorm1d(128, eps=0.001, momentum=0.01, affine=True, track_running_stats=True)\n",
       "          (non_linearity_0): ReLU()\n",
       "        )\n",
       "        (Layer 1): Sequential(\n",
       "          (linear_1): Linear(in_features=128, out_features=128, bias=True)\n",
       "          (batch_norm_1): BatchNorm1d(128, eps=0.001, momentum=0.01, affine=True, track_running_stats=True)\n",
       "          (non_linearity_1): ReLU()\n",
       "          (dropout_1): Dropout(p=0.1)\n",
       "        )\n",
       "      )\n",
       "    )\n",
       "    (mean_encoder): Linear(in_features=128, out_features=10, bias=True)\n",
       "    (var_encoder): Linear(in_features=128, out_features=10, bias=True)\n",
       "  )\n",
       "  (l_encoder): Encoder(\n",
       "    (encoder): FCLayers(\n",
       "      (fc_layers): Sequential(\n",
       "        (Layer 0): Sequential(\n",
       "          (linear_0): Linear(in_features=1001, out_features=128, bias=True)\n",
       "          (batch_norm_0): BatchNorm1d(128, eps=0.001, momentum=0.01, affine=True, track_running_stats=True)\n",
       "          (non_linearity_0): ReLU()\n",
       "        )\n",
       "      )\n",
       "    )\n",
       "    (mean_encoder): Linear(in_features=128, out_features=1, bias=True)\n",
       "    (var_encoder): Linear(in_features=128, out_features=1, bias=True)\n",
       "  )\n",
       "  (decoder): DecoderSCVI(\n",
       "    (px_decoder): FCLayers(\n",
       "      (fc_layers): Sequential(\n",
       "        (Layer 0): Sequential(\n",
       "          (linear_0): Linear(in_features=10, out_features=128, bias=True)\n",
       "          (batch_norm_0): BatchNorm1d(128, eps=0.001, momentum=0.01, affine=True, track_running_stats=True)\n",
       "          (non_linearity_0): ReLU()\n",
       "        )\n",
       "        (Layer 1): Sequential(\n",
       "          (linear_1): Linear(in_features=128, out_features=128, bias=True)\n",
       "          (batch_norm_1): BatchNorm1d(128, eps=0.001, momentum=0.01, affine=True, track_running_stats=True)\n",
       "          (non_linearity_1): ReLU()\n",
       "          (dropout_1): Dropout(p=0.1)\n",
       "        )\n",
       "      )\n",
       "    )\n",
       "    (px_scale_decoder): Sequential(\n",
       "      (0): Linear(in_features=128, out_features=1001, bias=True)\n",
       "      (1): Softmax()\n",
       "    )\n",
       "    (px_r_decoder): Linear(in_features=128, out_features=1001, bias=True)\n",
       "    (px_dropout_decoder): Linear(in_features=128, out_features=1001, bias=True)\n",
       "  )\n",
       ")"
      ]
     },
     "execution_count": 11,
     "metadata": {},
     "output_type": "execute_result"
    }
   ],
   "source": [
    "vae = VAE(gene_dataset.nb_genes, n_batch=gene_dataset.n_batches, n_labels=gene_dataset.n_labels,\n",
    "          n_hidden=128, n_latent=10, n_layers=2, dispersion='gene')\n",
    "trainer = UnsupervisedTrainer(vae, gene_dataset, train_size=1.0)\n",
    "# trainer.model.load_state_dict(torch.load('../Zeisel/vae.pkl'))\n",
    "# trainer.model.eval()\n",
    "# trainer.train(n_epochs=100)\n",
    "# torch.save(trainer.model.state_dict(),'../Zeisel/vae.pkl')"
   ]
  },
  {
   "cell_type": "code",
   "execution_count": 12,
   "metadata": {},
   "outputs": [],
   "source": [
    "full = trainer.create_posterior(trainer.model, gene_dataset, indices=np.arange(len(gene_dataset)))"
   ]
  },
  {
   "cell_type": "markdown",
   "metadata": {},
   "source": [
    "# SCANVI coarse"
   ]
  },
  {
   "cell_type": "code",
   "execution_count": 13,
   "metadata": {},
   "outputs": [],
   "source": [
    "scanvi = SCANVI(gene_dataset.nb_genes, gene_dataset.n_batches, gene_dataset.n_labels, n_layers=2)\n",
    "scanvi.load_state_dict(full.model.state_dict(), strict=False)\n",
    "trainer_scanvi = SemiSupervisedTrainer(scanvi, gene_dataset, classification_ratio=50,\n",
    "                                       n_epochs_classifier=1, lr_classification=5 * 1e-3)\n",
    "# trainer_scanvi.train(n_epochs=5)\n",
    "# torch.save(trainer_scanvi.model.state_dict(),'../Zeisel/scanvi.coarse.pkl')\n",
    "trainer_scanvi.model.load_state_dict(torch.load('../Zeisel/scanvi.coarse.pkl'))\n",
    "trainer_scanvi.model.eval()\n",
    "full_coarse = trainer_scanvi.create_posterior(trainer_scanvi.model, gene_dataset, indices=np.arange(len(gene_dataset)))\n"
   ]
  },
  {
   "cell_type": "markdown",
   "metadata": {},
   "source": [
    "# SCANVI Fine"
   ]
  },
  {
   "cell_type": "code",
   "execution_count": 38,
   "metadata": {},
   "outputs": [],
   "source": [
    "K=5"
   ]
  },
  {
   "cell_type": "code",
   "execution_count": 87,
   "metadata": {},
   "outputs": [
    {
     "name": "stdout",
     "output_type": "stream",
     "text": [
      "training: 100%|██████████| 5/5 [22:03<00:00, 264.77s/it]\n"
     ]
    }
   ],
   "source": [
    "# ,'dropout_rate':0.2\n",
    "scanvi = SCANVI(gene_dataset_fine.nb_genes, gene_dataset_fine.n_batches, gene_dataset_fine.n_labels, n_layers=2,\n",
    "                classifier_parameters = {'dropout_rate':0.2, 'n_hidden':256, 'n_layers':2})\n",
    "scanvi.load_state_dict(full.model.state_dict(), strict=False)\n",
    "trainer_scanvi = SemiSupervisedTrainer(scanvi, gene_dataset_fine, classification_ratio=100,\n",
    "                                       n_epochs_classifier=1, lr_classification=5 * 1e-3,n_labelled_samples_per_class=K)\n",
    "trainer_scanvi.train(n_epochs=5)\n",
    "torch.save(trainer_scanvi.model.state_dict(),'../Zeisel/scanvi.%i.pkl'%K)\n",
    "trainer_scanvi.model.load_state_dict(torch.load('../Zeisel/scanvi.%i.pkl'%K))\n",
    "trainer_scanvi.model.eval()\n",
    "full_fine = trainer_scanvi.create_posterior(trainer_scanvi.model, gene_dataset_fine, indices=np.arange(len(gene_dataset_fine)))"
   ]
  },
  {
   "cell_type": "code",
   "execution_count": 88,
   "metadata": {},
   "outputs": [],
   "source": [
    "unlabelled_idx= trainer_scanvi.unlabelled_set.indices\n",
    "labelled_idx= trainer_scanvi.labelled_set.indices"
   ]
  },
  {
   "cell_type": "code",
   "execution_count": 89,
   "metadata": {},
   "outputs": [],
   "source": [
    "_,SCANVI_fine_pred = full_fine.sequential().compute_predictions()"
   ]
  },
  {
   "cell_type": "code",
   "execution_count": 90,
   "metadata": {},
   "outputs": [
    {
     "data": {
      "text/plain": [
       "265"
      ]
     },
     "execution_count": 90,
     "metadata": {},
     "output_type": "execute_result"
    }
   ],
   "source": [
    "len(np.unique(gene_dataset_fine.labels[unlabelled_idx]))"
   ]
  },
  {
   "cell_type": "code",
   "execution_count": 91,
   "metadata": {},
   "outputs": [
    {
     "data": {
      "text/plain": [
       "166"
      ]
     },
     "execution_count": 91,
     "metadata": {},
     "output_type": "execute_result"
    }
   ],
   "source": [
    "len(np.unique(SCANVI_fine_pred[unlabelled_idx]))"
   ]
  },
  {
   "cell_type": "code",
   "execution_count": 92,
   "metadata": {},
   "outputs": [
    {
     "data": {
      "text/plain": [
       "0.32015172465944486"
      ]
     },
     "execution_count": 92,
     "metadata": {},
     "output_type": "execute_result"
    }
   ],
   "source": [
    "scanvi_fine_acc = compute_accuracy_tuple(gene_dataset_fine.labels.ravel()[unlabelled_idx],SCANVI_fine_pred[unlabelled_idx])\n",
    "scanvi_fine_acc[1]"
   ]
  },
  {
   "cell_type": "markdown",
   "metadata": {},
   "source": [
    "# SCANVI Hierarchical"
   ]
  },
  {
   "cell_type": "code",
   "execution_count": 94,
   "metadata": {},
   "outputs": [
    {
     "name": "stdout",
     "output_type": "stream",
     "text": [
      "training: 100%|██████████| 5/5 [35:37<00:00, 427.44s/it]\n"
     ]
    }
   ],
   "source": [
    "scanvi = SCANVI(gene_dataset_fine.nb_genes, gene_dataset_fine.n_batches, gene_dataset_fine.n_labels, n_layers=2,\n",
    "                classifier_parameters = {'dropout_rate':0.2, 'n_hidden':256, 'n_layers':2},\n",
    "               labels_groups=gene_dataset_fine.labels_groups, use_labels_groups=True)\n",
    "\n",
    "scanvi.load_state_dict(full.model.state_dict(), strict=False)\n",
    "\n",
    "\n",
    "trainer_scanvi = SemiSupervisedTrainer(scanvi, gene_dataset_fine, classification_ratio=100,\n",
    "                                       n_epochs_classifier=1, lr_classification=5 * 1e-3,n_labelled_samples_per_class=K)\n",
    "\n",
    "trainer_scanvi.train(n_epochs=5)\n",
    "torch.save(trainer_scanvi.model.state_dict(),'../Zeisel/scanvi.hier.%i.pkl'%K)\n",
    "trainer_scanvi.model.load_state_dict(torch.load('../Zeisel/scanvi.hier.%i.pkl'%K))\n",
    "trainer_scanvi.model.eval()\n",
    "full_hier = trainer_scanvi.create_posterior(trainer_scanvi.model, gene_dataset_fine, indices=np.arange(len(gene_dataset_fine)))"
   ]
  },
  {
   "cell_type": "code",
   "execution_count": 95,
   "metadata": {},
   "outputs": [],
   "source": [
    "_,SCANVI_hier_pred = full_hier.sequential().compute_predictions()\n",
    "scanvi_hier_acc = compute_accuracy_tuple(gene_dataset_fine.labels.ravel()[unlabelled_idx],SCANVI_hier_pred[unlabelled_idx])\n"
   ]
  },
  {
   "cell_type": "code",
   "execution_count": 96,
   "metadata": {},
   "outputs": [
    {
     "data": {
      "text/plain": [
       "227"
      ]
     },
     "execution_count": 96,
     "metadata": {},
     "output_type": "execute_result"
    }
   ],
   "source": [
    "len(np.unique(SCANVI_hier_pred[unlabelled_idx]))"
   ]
  },
  {
   "cell_type": "code",
   "execution_count": 97,
   "metadata": {},
   "outputs": [
    {
     "data": {
      "text/plain": [
       "0.3674891651661416"
      ]
     },
     "execution_count": 97,
     "metadata": {},
     "output_type": "execute_result"
    }
   ],
   "source": [
    "scanvi_hier_acc[1]"
   ]
  },
  {
   "cell_type": "markdown",
   "metadata": {},
   "source": [
    "# scVI and Seurat latent space"
   ]
  },
  {
   "cell_type": "code",
   "execution_count": 51,
   "metadata": {},
   "outputs": [],
   "source": [
    "vae_posterior = trainer.create_posterior(trainer.model, gene_dataset, indices=np.arange(len(gene_dataset)))\n",
    "seurat_latent = np.genfromtxt('../Zeisel/Zeisel.1.CCA.txt')\n",
    "latent, batch_indices, labels = vae_posterior.sequential().get_latent()\n",
    "batch_indices = batch_indices.ravel()"
   ]
  },
  {
   "cell_type": "markdown",
   "metadata": {},
   "source": [
    "# Coarse to Coarse"
   ]
  },
  {
   "cell_type": "code",
   "execution_count": 53,
   "metadata": {},
   "outputs": [],
   "source": [
    "import copy\n",
    "gene_dataset_coarse = copy.deepcopy(gene_dataset_fine)\n",
    "gene_dataset_coarse.labels = gene_dataset_fine.labels_groups[gene_dataset_fine.labels.ravel()].reshape(len(gene_dataset_fine),1)\n",
    "gene_dataset_coarse.cell_types = gene_dataset_fine.groups\n",
    "gene_dataset_coarse.n_labels = gene_dataset_fine.groups.shape[0]"
   ]
  },
  {
   "cell_type": "code",
   "execution_count": 54,
   "metadata": {},
   "outputs": [],
   "source": [
    "scanvi = SCANVI(gene_dataset.nb_genes, gene_dataset.n_batches, gene_dataset.n_labels, n_layers=2)\n",
    "scanvi.load_state_dict(full.model.state_dict(), strict=False)\n",
    "trainer_scanvi = SemiSupervisedTrainer(scanvi, gene_dataset, classification_ratio=50,\n",
    "                                       n_epochs_classifier=1, lr_classification=5 * 1e-3)\n",
    "labelled_idx = trainer_scanvi.labelled_set.indices\n",
    "unlabelled_idx= trainer_scanvi.unlabelled_set.indices"
   ]
  },
  {
   "cell_type": "code",
   "execution_count": 55,
   "metadata": {},
   "outputs": [],
   "source": [
    "from sklearn.neighbors import KNeighborsClassifier\n",
    "def PartialPrediction(latent,labelled_idx,unlabelled_idx,labels):\n",
    "        latent_labelled = latent[labelled_idx, :]\n",
    "        latent_unlabelled = latent[unlabelled_idx, :]\n",
    "        labels_labelled = labels[labelled_idx]\n",
    "        labels_unlabelled = labels[unlabelled_idx]\n",
    "        neigh = KNeighborsClassifier(n_neighbors=10)\n",
    "        neigh = neigh.fit(latent_labelled, labels_labelled)\n",
    "        labels_pred = neigh.predict(latent_unlabelled)\n",
    "        return labels_pred\n"
   ]
  },
  {
   "cell_type": "code",
   "execution_count": 56,
   "metadata": {},
   "outputs": [],
   "source": [
    "coarse_latent, _, _ = full_coarse.sequential().get_latent()"
   ]
  },
  {
   "cell_type": "code",
   "execution_count": 57,
   "metadata": {},
   "outputs": [],
   "source": [
    "coarse_pred=(PartialPrediction(coarse_latent, labelled_idx,unlabelled_idx,gene_dataset.labels.ravel()))\n"
   ]
  },
  {
   "cell_type": "code",
   "execution_count": 58,
   "metadata": {},
   "outputs": [],
   "source": [
    "# seurat coarse\n",
    "seurat_coarse_pred=(PartialPrediction(seurat_latent, labelled_idx,unlabelled_idx,gene_dataset.labels.ravel()))\n",
    "# scVI coarse\n",
    "scVI_coarse_pred=(PartialPrediction(latent, labelled_idx,unlabelled_idx,gene_dataset.labels.ravel()))\n",
    "coarse_pred=(PartialPrediction(coarse_latent, labelled_idx,unlabelled_idx,gene_dataset.labels.ravel()))\n",
    "y,SCANVI_coarse_pred = full_coarse.sequential().compute_predictions()"
   ]
  },
  {
   "cell_type": "code",
   "execution_count": 61,
   "metadata": {},
   "outputs": [],
   "source": [
    "seurat_coarse_acc = compute_accuracy_tuple(gene_dataset.labels.ravel()[unlabelled_idx], seurat_coarse_pred)\n",
    "scVI_coarse_acc = compute_accuracy_tuple(gene_dataset.labels.ravel()[unlabelled_idx],scVI_coarse_pred)\n",
    "coarse_acc = compute_accuracy_tuple(gene_dataset.labels.ravel()[unlabelled_idx],coarse_pred)\n",
    "scanvi_coarse_acc = compute_accuracy_tuple(gene_dataset.labels.ravel()[unlabelled_idx],SCANVI_coarse_pred[unlabelled_idx])"
   ]
  },
  {
   "cell_type": "code",
   "execution_count": 62,
   "metadata": {},
   "outputs": [
    {
     "data": {
      "text/plain": [
       "0.748911306978098"
      ]
     },
     "execution_count": 62,
     "metadata": {},
     "output_type": "execute_result"
    }
   ],
   "source": [
    "seurat_coarse_acc[1]"
   ]
  },
  {
   "cell_type": "code",
   "execution_count": 63,
   "metadata": {},
   "outputs": [
    {
     "data": {
      "text/plain": [
       "0.8106541213164749"
      ]
     },
     "execution_count": 63,
     "metadata": {},
     "output_type": "execute_result"
    }
   ],
   "source": [
    "scVI_coarse_acc[1]"
   ]
  },
  {
   "cell_type": "code",
   "execution_count": 64,
   "metadata": {},
   "outputs": [
    {
     "data": {
      "text/plain": [
       "0.8507258855655311"
      ]
     },
     "execution_count": 64,
     "metadata": {},
     "output_type": "execute_result"
    }
   ],
   "source": [
    "scanvi_coarse_acc[1]"
   ]
  },
  {
   "cell_type": "code",
   "execution_count": 65,
   "metadata": {},
   "outputs": [
    {
     "data": {
      "text/plain": [
       "0.8471129374449987"
      ]
     },
     "execution_count": 65,
     "metadata": {},
     "output_type": "execute_result"
    }
   ],
   "source": [
    "coarse_acc[1]"
   ]
  },
  {
   "cell_type": "markdown",
   "metadata": {},
   "source": [
    "# Fine to Fine"
   ]
  },
  {
   "cell_type": "code",
   "execution_count": 104,
   "metadata": {},
   "outputs": [],
   "source": [
    "scanvi = SCANVI(gene_dataset_fine.nb_genes, gene_dataset_fine.n_batches, gene_dataset_fine.n_labels, n_layers=2)\n",
    "scanvi.load_state_dict(full.model.state_dict(), strict=False)\n",
    "trainer_scanvi = SemiSupervisedTrainer(scanvi, gene_dataset_fine, classification_ratio=50,\n",
    "                                       n_epochs_classifier=1, lr_classification=5 * 1e-3,n_labelled_samples_per_class=K)\n",
    "labelled_idx = trainer_scanvi.labelled_set.indices\n",
    "unlabelled_idx= trainer_scanvi.unlabelled_set.indices"
   ]
  },
  {
   "cell_type": "code",
   "execution_count": 106,
   "metadata": {},
   "outputs": [],
   "source": [
    "scanvi_latent,_,_ = full_fine.sequential().get_latent()"
   ]
  },
  {
   "cell_type": "code",
   "execution_count": 105,
   "metadata": {},
   "outputs": [],
   "source": [
    "scanvi_hier_latent,_,_ = full_hier.sequential().get_latent()"
   ]
  },
  {
   "cell_type": "code",
   "execution_count": 107,
   "metadata": {},
   "outputs": [
    {
     "data": {
      "text/plain": [
       "1325"
      ]
     },
     "execution_count": 107,
     "metadata": {},
     "output_type": "execute_result"
    }
   ],
   "source": [
    "len(labelled_idx)"
   ]
  },
  {
   "cell_type": "code",
   "execution_count": 108,
   "metadata": {},
   "outputs": [],
   "source": [
    "seurat_fine_pred=(PartialPrediction(seurat_latent, labelled_idx,unlabelled_idx,gene_dataset_fine.labels.ravel()))\n",
    "scVI_fine_pred=(PartialPrediction(latent, labelled_idx,unlabelled_idx,gene_dataset_fine.labels.ravel()))\n",
    "fine_pred=(PartialPrediction(scanvi_latent, labelled_idx,unlabelled_idx,gene_dataset_fine.labels.ravel()))\n",
    "hier_pred=(PartialPrediction(scanvi_hier_latent, labelled_idx,unlabelled_idx,gene_dataset_fine.labels.ravel()))\n",
    "scVI_fine_acc = compute_accuracy_tuple(gene_dataset_fine.labels.ravel()[unlabelled_idx],scVI_fine_pred)\n",
    "seurat_fine_acc = compute_accuracy_tuple(gene_dataset_fine.labels.ravel()[unlabelled_idx],seurat_fine_pred)\n",
    "\n",
    "# _,SCANVI_fine_pred = full_fine.sequential().compute_predictions()\n",
    "# _,SCANVI_hier_pred = full_hier.sequential().compute_predictions()"
   ]
  },
  {
   "cell_type": "code",
   "execution_count": 109,
   "metadata": {},
   "outputs": [
    {
     "data": {
      "text/plain": [
       "0.32015172465944486"
      ]
     },
     "execution_count": 109,
     "metadata": {},
     "output_type": "execute_result"
    }
   ],
   "source": [
    "scanvi_fine_acc[1]"
   ]
  },
  {
   "cell_type": "code",
   "execution_count": 110,
   "metadata": {},
   "outputs": [
    {
     "data": {
      "text/plain": [
       "0.3674891651661416"
      ]
     },
     "execution_count": 110,
     "metadata": {},
     "output_type": "execute_result"
    }
   ],
   "source": [
    "scanvi_hier_acc[1]"
   ]
  },
  {
   "cell_type": "code",
   "execution_count": 111,
   "metadata": {},
   "outputs": [
    {
     "data": {
      "text/plain": [
       "0.3226786444629229"
      ]
     },
     "execution_count": 111,
     "metadata": {},
     "output_type": "execute_result"
    }
   ],
   "source": [
    "scVI_fine_acc[1]"
   ]
  },
  {
   "cell_type": "code",
   "execution_count": 112,
   "metadata": {},
   "outputs": [
    {
     "data": {
      "text/plain": [
       "0.23375816599735355"
      ]
     },
     "execution_count": 112,
     "metadata": {},
     "output_type": "execute_result"
    }
   ],
   "source": [
    "seurat_fine_acc[1]"
   ]
  },
  {
   "cell_type": "code",
   "execution_count": 113,
   "metadata": {},
   "outputs": [
    {
     "data": {
      "text/plain": [
       "0.35548608982183777"
      ]
     },
     "execution_count": 113,
     "metadata": {},
     "output_type": "execute_result"
    }
   ],
   "source": [
    "fine_acc = compute_accuracy_tuple(gene_dataset_fine.labels.ravel()[unlabelled_idx],fine_pred)\n",
    "fine_acc[1]"
   ]
  },
  {
   "cell_type": "code",
   "execution_count": 114,
   "metadata": {},
   "outputs": [
    {
     "data": {
      "text/plain": [
       "0.3626498253215884"
      ]
     },
     "execution_count": 114,
     "metadata": {},
     "output_type": "execute_result"
    }
   ],
   "source": [
    "hier_acc = compute_accuracy_tuple(gene_dataset_fine.labels.ravel()[unlabelled_idx],hier_pred)\n",
    "hier_acc[1]"
   ]
  },
  {
   "cell_type": "code",
   "execution_count": 79,
   "metadata": {},
   "outputs": [
    {
     "name": "stdout",
     "output_type": "stream",
     "text": [
      "0.390 & 0.489 &0.434 &0.523 & 0.460 & 0.537 \\\\\n"
     ]
    }
   ],
   "source": [
    "print(\"%.3f & %.3f &%.3f &%.3f & %.3f & %.3f \\\\\\\\\"%(seurat_fine_acc[0], scVI_fine_acc[0],scanvi_fine_acc[0],fine_acc[0],scanvi_hier_acc[0],hier_acc[0]))"
   ]
  },
  {
   "cell_type": "code",
   "execution_count": 80,
   "metadata": {},
   "outputs": [
    {
     "name": "stdout",
     "output_type": "stream",
     "text": [
      "0.183 & 0.244 &0.367 &0.268 & 0.365 & 0.276 \\\\\n"
     ]
    }
   ],
   "source": [
    "print(\"%.3f & %.3f &%.3f &%.3f & %.3f & %.3f \\\\\\\\\"%(seurat_fine_acc[1], scVI_fine_acc[1],scanvi_fine_acc[1],fine_acc[1],scanvi_hier_acc[1],hier_acc[1]))"
   ]
  },
  {
   "cell_type": "markdown",
   "metadata": {},
   "source": [
    "# Fine to Coarse"
   ]
  },
  {
   "cell_type": "code",
   "execution_count": 103,
   "metadata": {},
   "outputs": [
    {
     "data": {
      "text/plain": [
       "160796"
      ]
     },
     "execution_count": 103,
     "metadata": {},
     "output_type": "execute_result"
    }
   ],
   "source": [
    "len(SCANVI_hier_pred)"
   ]
  },
  {
   "cell_type": "code",
   "execution_count": 104,
   "metadata": {},
   "outputs": [
    {
     "data": {
      "text/plain": [
       "147546"
      ]
     },
     "execution_count": 104,
     "metadata": {},
     "output_type": "execute_result"
    }
   ],
   "source": [
    "len(fine_pred)"
   ]
  },
  {
   "cell_type": "code",
   "execution_count": 105,
   "metadata": {},
   "outputs": [],
   "source": [
    "seurat_fine_pred_coarse = gene_dataset_fine.labels_groups[seurat_fine_pred]\n",
    "scVI_fine_pred_coarse = gene_dataset_fine.labels_groups[scVI_fine_pred]\n",
    "SCANVI_fine_pred_coarse = gene_dataset_fine.labels_groups[SCANVI_fine_pred]\n",
    "SCANVI_hier_pred_coarse = gene_dataset_fine.labels_groups[SCANVI_hier_pred]\n",
    "fine_pred_coarse = gene_dataset_fine.labels_groups[fine_pred]\n",
    "hier_pred_coarse = gene_dataset_fine.labels_groups[hier_pred]"
   ]
  },
  {
   "cell_type": "code",
   "execution_count": 106,
   "metadata": {},
   "outputs": [],
   "source": [
    "seurat_fine_coarse_acc = compute_accuracy_tuple(seurat_fine_pred_coarse,gene_dataset.labels.ravel()[unlabelled_idx])\n",
    "scVI_fine_coarse_acc = compute_accuracy_tuple(scVI_fine_pred_coarse,gene_dataset.labels.ravel()[unlabelled_idx])\n",
    "scanvi_fine_coarse_acc = compute_accuracy_tuple(gene_dataset.labels.ravel()[unlabelled_idx],SCANVI_fine_pred_coarse[unlabelled_idx])\n",
    "scanvi_hier_coarse_acc = compute_accuracy_tuple(gene_dataset.labels.ravel()[unlabelled_idx],SCANVI_hier_pred_coarse[unlabelled_idx])\n",
    "fine_coarse_acc = compute_accuracy_tuple(gene_dataset.labels.ravel()[unlabelled_idx],fine_pred_coarse)\n",
    "hier_coarse_acc = compute_accuracy_tuple(gene_dataset.labels.ravel()[unlabelled_idx],hier_pred_coarse)\n"
   ]
  },
  {
   "cell_type": "code",
   "execution_count": 107,
   "metadata": {},
   "outputs": [
    {
     "data": {
      "text/plain": [
       "Accuracy(unweighted=0.8764859772545511, weighted=0.6984176331436392, worst=0.0, accuracy_classes=[0.9832838038632986, 0.7056195222546829, 0.3511450381679389, 0.9828009828009828, 0.5667608618862593, 0.29901960784313725, 0.6049279249078109, 0.486565231466494, 0.9993055555555556, 0.993006993006993, 0.9748603351955307, 0.10498687664041995, 0.3616822429906542, 0.9992414185473165, 0.9110130111524164, 0.9873801110550228, 0.7567191844300278, 0.8953488372093024, 0.9998979279371236, 0.3326703132769766, 0.9789132197891321, 0.5384615384615384, 0.8633440514469454, 0.6461538461538462, 0.997926386728875, 0.9901153212520593, 0.0, 0.24602510460251045, 0.13333333333333333, 0.48, 0.3904494382022472, 0.16883116883116883, 0.9664570230607966, 0.8755186721991701, 0.9602730819245774, 0.8426051560379919, 0.9779086892488954, 0.9820603424843708, 0.9036755386565273])"
      ]
     },
     "execution_count": 107,
     "metadata": {},
     "output_type": "execute_result"
    }
   ],
   "source": [
    "seurat_fine_coarse_acc"
   ]
  },
  {
   "cell_type": "code",
   "execution_count": 108,
   "metadata": {},
   "outputs": [
    {
     "data": {
      "text/plain": [
       "Accuracy(unweighted=0.9158093069280089, weighted=0.7870135333924407, worst=0.0, accuracy_classes=[0.9807682147197125, 0.8843712812376041, 0.4969040247678019, 0.9950738916256158, 0.8702236719478099, 0.45972495088408644, 0.5994563479373202, 0.625261688764829, 0.9990032891458188, 0.9147286821705426, 0.9495652173913044, 0.4115898959881129, 0.5399610136452242, 0.9952714204652923, 0.9418632936025298, 0.9949109414758269, 0.8086847073631215, 0.838810641627543, 0.994126035583322, 0.6031443544545021, 0.9087316522393677, 0.6363636363636364, 0.9847972972972973, 0.9230769230769231, 0.995334370139969, 0.9917491749174917, 0.0, 0.40271877655055227, 0.14674735249621784, 0.9672131147540983, 0.56951871657754, 0.53125, 0.9870609981515711, 0.9237492465340567, 0.9667590027700831, 0.9701917600151889, 0.984375, 0.9695716395864107, 0.9308755760368663])"
      ]
     },
     "execution_count": 108,
     "metadata": {},
     "output_type": "execute_result"
    }
   ],
   "source": [
    "scVI_fine_coarse_acc"
   ]
  },
  {
   "cell_type": "code",
   "execution_count": 109,
   "metadata": {},
   "outputs": [
    {
     "data": {
      "text/plain": [
       "Accuracy(unweighted=0.8275317528092934, weighted=0.724645262288915, worst=0.0, accuracy_classes=[0.9971326926140286, 0.8816770812336222, 0.8633879781420765, 0.9926470588235294, 0.940009447331129, 0.0, 0.26778711484593837, 0.5720844811753902, 0.9970232188926375, 0.9197183098591549, 0.957542908762421, 0.26126126126126126, 0.7979041916167665, 0.9986729857819905, 0.886240520043337, 0.9924280666330136, 0.720886075949367, 0.9402597402597402, 0.7979396164830681, 0.6529801324503312, 0.996021483986473, 0.8571428571428571, 0.9949494949494949, 0.9033816425120773, 0.997926386728875, 0.9983443708609272, 0, 0.7093889716840537, 0.0, 0.9836065573770492, 0.0, 0.0, 0.9963636363636363, 0.8240146654445463, 0.9104715317672487, 0.9436097199035429, 0.9837157660991858, 0.0])"
      ]
     },
     "execution_count": 109,
     "metadata": {},
     "output_type": "execute_result"
    }
   ],
   "source": [
    "scanvi_fine_coarse_acc"
   ]
  },
  {
   "cell_type": "code",
   "execution_count": 110,
   "metadata": {},
   "outputs": [
    {
     "data": {
      "text/plain": [
       "Accuracy(unweighted=0.8561804454204114, weighted=0.7094155594111983, worst=0.0, accuracy_classes=[0.9928317315350714, 0.893569844789357, 0.9398907103825137, 0.9926470588235294, 0.6195087387812943, 0.0, 0.0, 0.0, 0.9955348283389561, 0.995774647887324, 0.990063233965673, 0.6238738738738738, 0.9431137724550899, 0.9941232227488151, 0.9111592632719393, 0.97778899545684, 0.6776371308016877, 0.8714285714285714, 0.9925540595675234, 0.0, 0.925601750547046, 1.0, 1.0, 0.0, 0.9958527734577501, 0.9983443708609272, 0, 0.9001490312965723, 0.0, 0.9836065573770492, 0.0, 0.0, 0.9981818181818182, 0.8811051459997381, 0.9597861327569536, 0.9530699313670933, 0.9866765358993338, 0.9639175257731959])"
      ]
     },
     "execution_count": 110,
     "metadata": {},
     "output_type": "execute_result"
    }
   ],
   "source": [
    "scanvi_hier_coarse_acc"
   ]
  },
  {
   "cell_type": "code",
   "execution_count": 111,
   "metadata": {},
   "outputs": [
    {
     "data": {
      "text/plain": [
       "Accuracy(unweighted=0.9133965000745532, weighted=0.8367118861104342, worst=0.0, accuracy_classes=[0.9901768172888016, 0.9244104011288047, 0.8387978142076503, 0.9926470588235294, 0.9034010392064242, 0.8267148014440433, 0.696171802054155, 0.5711662075298439, 0.9972216709664616, 0.9971830985915493, 0.991869918699187, 0.5945945945945946, 0.8308383233532934, 0.9982938388625593, 0.8446370530877573, 0.98889449772842, 0.8554852320675106, 0.7961038961038961, 0.9964640282877737, 0.5726269315673289, 0.9600159140640541, 1.0, 0.9848484848484849, 0.9468599033816425, 0.997926386728875, 0.9950331125827815, 0, 0.7570789865871833, 0.36727272727272725, 0.9836065573770492, 0.21813031161473087, 0.8, 0.96, 0.815110645541443, 0.9374893350776407, 0.9573363012428121, 0.9866765358993338, 0.9199674443841562])"
      ]
     },
     "execution_count": 111,
     "metadata": {},
     "output_type": "execute_result"
    }
   ],
   "source": [
    "fine_coarse_acc"
   ]
  },
  {
   "cell_type": "code",
   "execution_count": 112,
   "metadata": {},
   "outputs": [
    {
     "data": {
      "text/plain": [
       "Accuracy(unweighted=0.9091334227969583, weighted=0.833522873919627, worst=0.0, accuracy_classes=[0.9895396378696968, 0.9229993952832091, 0.860655737704918, 0.9877450980392157, 0.8717524799244214, 0.8194945848375451, 0.6625583566760037, 0.5439240893786348, 0.9976185751141099, 0.9943661971830986, 0.99096657633243, 0.6486486486486487, 0.8473053892215568, 0.9986729857819905, 0.8470205850487541, 0.9863705199394245, 0.8284810126582278, 0.8415584415584415, 0.996532027743778, 0.4794701986754967, 0.9669783170877263, 1.0, 0.9730639730639731, 0.9178743961352657, 0.997926386728875, 0.9950331125827815, 0, 0.7749627421758569, 0.4, 0.9672131147540983, 0.2563739376770538, 0.72, 0.9672727272727273, 0.8094801623674217, 0.9347591149536432, 0.9588202559821926, 0.9800148038490007, 0.938415626695605])"
      ]
     },
     "execution_count": 112,
     "metadata": {},
     "output_type": "execute_result"
    }
   ],
   "source": [
    "hier_coarse_acc"
   ]
  },
  {
   "cell_type": "code",
   "execution_count": null,
   "metadata": {},
   "outputs": [],
   "source": []
  },
  {
   "cell_type": "code",
   "execution_count": null,
   "metadata": {},
   "outputs": [],
   "source": []
  },
  {
   "cell_type": "code",
   "execution_count": null,
   "metadata": {},
   "outputs": [],
   "source": []
  },
  {
   "cell_type": "code",
   "execution_count": null,
   "metadata": {},
   "outputs": [],
   "source": []
  },
  {
   "cell_type": "code",
   "execution_count": null,
   "metadata": {},
   "outputs": [],
   "source": []
  },
  {
   "cell_type": "code",
   "execution_count": null,
   "metadata": {},
   "outputs": [],
   "source": []
  },
  {
   "cell_type": "code",
   "execution_count": null,
   "metadata": {},
   "outputs": [],
   "source": []
  },
  {
   "cell_type": "code",
   "execution_count": null,
   "metadata": {},
   "outputs": [],
   "source": []
  },
  {
   "cell_type": "code",
   "execution_count": null,
   "metadata": {},
   "outputs": [],
   "source": []
  },
  {
   "cell_type": "code",
   "execution_count": null,
   "metadata": {},
   "outputs": [],
   "source": []
  }
 ],
 "metadata": {
  "kernelspec": {
   "display_name": "Python [conda env:pytorch_p36]",
   "language": "python",
   "name": "conda-env-pytorch_p36-py"
  },
  "language_info": {
   "codemirror_mode": {
    "name": "ipython",
    "version": 3
   },
   "file_extension": ".py",
   "mimetype": "text/x-python",
   "name": "python",
   "nbconvert_exporter": "python",
   "pygments_lexer": "ipython3",
   "version": "3.6.7"
  }
 },
 "nbformat": 4,
 "nbformat_minor": 2
}
