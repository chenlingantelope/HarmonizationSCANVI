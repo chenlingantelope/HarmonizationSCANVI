{
 "cells": [
  {
   "cell_type": "code",
   "execution_count": 3,
   "metadata": {},
   "outputs": [],
   "source": [
    "import pickle\n",
    "import os\n",
    "import numpy as np\n",
    "import pandas as pd\n",
    "from sklearn.metrics import roc_auc_score\n",
    "from scipy.stats import spearmanr\n",
    "from scipy.stats import kendalltau\n",
    "\n",
    "os.chdir('/data/yosef2/users/chenling/HarmonizationSCANVI')\n",
    "save_path = \"../symsim_scVI/symsim_result/DE/\"\n"
   ]
  },
  {
   "cell_type": "code",
   "execution_count": 4,
   "metadata": {},
   "outputs": [],
   "source": [
    "import matplotlib.pyplot as plt\n",
    "import matplotlib\n",
    "matplotlib.rcParams['pdf.fonttype'] = 42\n",
    "matplotlib.rcParams['ps.fonttype'] = 42\n",
    "%matplotlib inline"
   ]
  },
  {
   "cell_type": "code",
   "execution_count": 5,
   "metadata": {},
   "outputs": [],
   "source": [
    "nevf = pd.read_csv(os.path.join(save_path, \"n_evf.csv\"),\n",
    "                             sep=\",\", index_col=0, header=0)\n",
    "nevf=np.asarray(nevf['x'])"
   ]
  },
  {
   "cell_type": "markdown",
   "metadata": {},
   "source": [
    "# 12\n",
    "```python\n",
    ">>> print(eval_bayes_factor(log_FC[nevf==0],bayes_AB[nevf==0]))\n",
    "(0.809239998952084, 0.8845029239766082, 0.791238788899506, 0.6130982550339206)\n",
    ">>> print(eval_bayes_factor(log_FC[nevf==1],bayes_AB[nevf==1]))\n",
    "(0.8037576249752033, 0.8525438920644406, 0.9008319906790959, 0.7380967578902946)\n",
    ">>> print(eval_bayes_factor(log_FC[nevf==2],bayes_AB[nevf==2]))\n",
    "(0.8372799162546665, 0.8414629330211121, 0.9335341066766897, 0.788121850640592)\n",
    ">>> print(eval_bayes_factor(log_FC[nevf==3],bayes_AB[nevf==3]))\n",
    "(0.8189318299190911, 0.8440470366228683, 0.9481718512321268, 0.8076643980166641)\n",
    ">>> print(eval_bayes_factor(log_FC[nevf==4],bayes_AB[nevf==4]))\n",
    "(0.8023, 0.8692886061307113, 0.9514465601537797, 0.8138689622190338)\n",
    "```\n",
    "\n",
    "# 45\n",
    "```python\n",
    ">>> print(eval_bayes_factor(log_FC[nevf==0],bayes_AB[nevf==0]))\n",
    "(0.3740634251133059, 0.3336111111111111, 0.36255425264480134, 0.24867830905960295)\n",
    ">>> print(eval_bayes_factor(log_FC[nevf==1],bayes_AB[nevf==1]))\n",
    "(0.48123899647887325, 0.4741630433927996, 0.3996169092273194, 0.275151882562943)\n",
    ">>> print(eval_bayes_factor(log_FC[nevf==2],bayes_AB[nevf==2]))\n",
    "(0.48289043318871283, 0.4965200341956586, 0.5466777348675441, 0.38308660382369714)\n",
    ">>> print(eval_bayes_factor(log_FC[nevf==3],bayes_AB[nevf==3]))\n",
    "(0.5262265450163539, 0.5532176055353648, 0.5637874804329784, 0.40056002215084113)\n",
    ">>> print(eval_bayes_factor(log_FC[nevf==4],bayes_AB[nevf==4]))\n",
    "(0.5761000000000002, 0.5904665509928668, 0.5715153313308484, 0.40740386641338716)\n",
    "```"
   ]
  },
  {
   "cell_type": "code",
   "execution_count": 6,
   "metadata": {},
   "outputs": [
    {
     "data": {
      "image/png": "[encoded data removed]",
      "text/plain": [
       "<Figure size 360x288 with 4 Axes>"
      ]
     },
     "metadata": {
      "needs_background": "light"
     },
     "output_type": "display_data"
    }
   ],
   "source": [
    "theoretical_FC = pd.read_csv(os.path.join(save_path, \"theoreticalFC.csv\"),\n",
    "                             sep=\",\", index_col=0, header=0)\n",
    "\n",
    "plt.figure(figsize=(5,4))\n",
    "for i,key in enumerate(['12','24','23','45']):\n",
    "    plt.subplot(2,2,i+1)\n",
    "    log_FC = theoretical_FC[key][nevf==3]\n",
    "    plt.hist(log_FC,range=(-5,5))\n",
    "    detected_genes = np.sum(np.abs(log_FC) >= 0.8)\n",
    "    plt.title(\"%s: %i genes / %i %.2f\"%(key,detected_genes,log_FC.shape[0],detected_genes/log_FC.shape[0]))\n",
    "#     plt.title(key)\n",
    "    plt.axvline(x=-0.8,color='red')\n",
    "    plt.axvline(x=0.8,color='red')\n",
    "    plt.tight_layout()\n",
    "\n",
    "# plt.savefig(save_path+'DE_simulation.0.logFC.pdf')\n",
    "plt.show()"
   ]
  },
  {
   "cell_type": "code",
   "execution_count": 7,
   "metadata": {},
   "outputs": [
    {
     "data": {
      "image/png": "[encoded data removed]",
      "text/plain": [
       "<Figure size 360x288 with 4 Axes>"
      ]
     },
     "metadata": {
      "needs_background": "light"
     },
     "output_type": "display_data"
    }
   ],
   "source": [
    "theoretical_FC = pd.read_csv(os.path.join(save_path, \"theoreticalFC.csv\"),\n",
    "                             sep=\",\", index_col=0, header=0)\n",
    "\n",
    "plt.figure(figsize=(5,4))\n",
    "for i,key in enumerate(['12','24','23','45']):\n",
    "    plt.subplot(2,2,i+1)\n",
    "    log_FC = theoretical_FC[key][nevf==5]\n",
    "    plt.hist(log_FC,range=(-5,5))\n",
    "    detected_genes = np.sum(np.abs(log_FC) >= 0.8)\n",
    "    plt.title(\"%s: %i genes / %i %.2f\"%(key,detected_genes,log_FC.shape[0],detected_genes/log_FC.shape[0]))\n",
    "#     plt.title(key)\n",
    "    plt.axvline(x=-0.8,color='red')\n",
    "    plt.axvline(x=0.8,color='red')\n",
    "    plt.tight_layout()\n",
    "\n",
    "plt.savefig(save_path+'DE_simulation.5.logFC.pdf')"
   ]
  },
  {
   "cell_type": "code",
   "execution_count": 8,
   "metadata": {},
   "outputs": [],
   "source": [
    "def eval_de(log_fold_change, logFC):\n",
    "    \"\"\"\n",
    "    :param log_fold_change: groundtruth\n",
    "    :param bayes_f: non-log Bayes Factor\n",
    "    :return:\n",
    "    \"\"\"\n",
    "    auc_1 = roc_auc_score(np.abs(log_fold_change) >= 0.6, np.abs(logFC))\n",
    "    auc_2 = roc_auc_score(np.abs(log_fold_change) >= 0.8, np.abs(logFC))\n",
    "    spear = spearmanr(logFC, log_fold_change)\n",
    "    kend = kendalltau(logFC, log_fold_change)\n",
    "    return auc_1, auc_2, spear[0], kend[0]\n"
   ]
  },
  {
   "cell_type": "code",
   "execution_count": 14,
   "metadata": {},
   "outputs": [],
   "source": [
    "scvires={'bayes_A':{},'bayes_B':{},'bayes_AB':{},'bayes_scanviAB':{}}\n",
    "\n",
    "for type in ['bayes_A','bayes_B','bayes_AB','bayes_scanviAB']:\n",
    "    scvires[type] = {'12':{},'23':{},'24':{},'45':{}}\n",
    "    for comparison in ['12','23','24','45']:\n",
    "        scvires[type][comparison] = {'R1':[],'R2':[],'S':[],'K':[]}\n",
    "        for rep in range(8):\n",
    "            X = pd.read_csv(os.path.join(save_path,'result.nb.%s.%i.csv'%(comparison,rep+1)))\n",
    "            X = X[type]\n",
    "            X = np.log(X + 1e-8) - np.log(1 - X + 1e-8)\n",
    "            stats = eval_de(theoretical_FC[comparison], X)\n",
    "            for i,x in enumerate(['R1','R2','S','K']):\n",
    "                scvires[type][comparison][x].append(stats[i])\n"
   ]
  },
  {
   "cell_type": "code",
   "execution_count": 10,
   "metadata": {},
   "outputs": [],
   "source": [
    "# for type in scvires.keys():\n",
    "#     for comparison in scvires[type].keys():\n",
    "#         for res_type in scvires[type][comparison].keys():\n",
    "#             print(\"results_scVI %s %s %s\"%(type, comparison, res_type), np.mean(scvires[type][comparison][res_type]),\n",
    "#                   \"+-\", np.std(scvires[type][comparison][res_type]))"
   ]
  },
  {
   "cell_type": "code",
   "execution_count": 20,
   "metadata": {},
   "outputs": [],
   "source": [
    "edgeR_res = {'12':{},'23':{},'24':{},'45':{}}\n",
    "for comparison in ['12','23','24','45']:\n",
    "    edgeR_res[comparison] = {'A': {}, 'B': {}, 'AB': {}}\n",
    "    for batch in ['A', 'B', 'AB']:\n",
    "        edgeR_res[comparison][batch] = {'R1':[],'R2':[],'S':[],'K':[]}\n",
    "        for rep in range(10):\n",
    "            X = pd.read_csv(os.path.join(save_path, 'EdgeR/SIM.%s.%i.0.00.%s.edgeR.csv') % (batch,(rep+1), comparison))\n",
    "            stats = eval_de(theoretical_FC[comparison], X['logFC'])\n",
    "            for i,x in enumerate(['R1','R2','S','K']):\n",
    "                edgeR_res[comparison][batch][x].append(stats[i])\n"
   ]
  },
  {
   "cell_type": "code",
   "execution_count": 11,
   "metadata": {},
   "outputs": [],
   "source": [
    "\n",
    "# for type in edgeR_res.keys():\n",
    "#     for comparison in edgeR_res[type].keys():\n",
    "#         for batch in edgeR_res[type][comparison].keys():\n",
    "#             for res_type in edgeR_res[type][comparison][batch].keys():\n",
    "#                 print(\"results_EdgeR%s %s %s %s\"%(type, comparison, batch, res_type), np.mean(edgeR_res[type][comparison][batch][res_type]),\n",
    "#                       \"+-\", np.std(edgeR_res[type][comparison][batch][res_type]))\n"
   ]
  },
  {
   "cell_type": "code",
   "execution_count": 22,
   "metadata": {},
   "outputs": [
    {
     "data": {
      "image/png": "[encoded data removed]",
      "text/plain": [
       "<Figure size 576x1080 with 8 Axes>"
      ]
     },
     "metadata": {
      "needs_background": "light"
     },
     "output_type": "display_data"
    }
   ],
   "source": [
    "# measure_names = ['AUC1','AUC2','Spearman','Kendall']\n",
    "measure_names = ['Spearman Correlation','Kendall-Tau']\n",
    "plt.figure(figsize=(8, 15))\n",
    "# for name, measure in enumerate(['R1', 'R2', 'S', 'K']): \n",
    "for name, measure in enumerate([ 'S', 'K']): \n",
    "    for row,comparison in enumerate(['12','23','24','45']):\n",
    "        props = dict(widths=0.2, patch_artist=True, medianprops=dict(color=\"black\"), whis=[5, 95], sym=\"\")\n",
    "\n",
    "        #AUC CD$CD*\n",
    "        ax = plt.subplot(4, 2, row*2+name+1)\n",
    "        ax.set_ylabel(measure_names[name])\n",
    "#         ax.set_ylabel(comparison)\n",
    "        plt.title(comparison)\n",
    "        bp1 = ax.boxplot([np.abs(edgeR_res[comparison][x][measure]) for x in ['A','B','AB'] ], positions=[0, 1, 2], **props)\n",
    "        bp2 = ax.boxplot([scvires['bayes_scanviAB'][comparison][measure]], positions=[2.4], **props)\n",
    "        bp3 = ax.boxplot([scvires[x][comparison][measure] for x in ['bayes_A','bayes_B','bayes_AB']], positions=[0.2, 1.2, 2.2], **props)\n",
    "\n",
    "        for patch in bp3['boxes']:\n",
    "            patch.set_facecolor('red')\n",
    "        for patch in bp2['boxes']:\n",
    "            patch.set_facecolor('green')\n",
    "\n",
    "        ax.set_xticklabels(['A','B', 'A+B'])\n",
    "#         ax.legend([bp1[\"boxes\"][0], bp2[\"boxes\"][0], bp3[\"boxes\"][0]], ['edgeR', 'SCANVI', 'scVI'])\n",
    "plt.savefig('DE_NB.pdf')\n"
   ]
  },
  {
   "cell_type": "code",
   "execution_count": 182,
   "metadata": {},
   "outputs": [
    {
     "data": {
      "text/plain": [
       "(array([1., 2.]), array([1988,   12]))"
      ]
     },
     "execution_count": 182,
     "metadata": {},
     "output_type": "execute_result"
    }
   ],
   "source": [
    "np.unique(truelab[2000:4000],return_counts=True)"
   ]
  },
  {
   "cell_type": "code",
   "execution_count": 181,
   "metadata": {},
   "outputs": [
    {
     "data": {
      "text/plain": [
       "(array([0, 1, 2, 3, 4]), array([  22, 1788,  116,   35,   39]))"
      ]
     },
     "execution_count": 181,
     "metadata": {},
     "output_type": "execute_result"
    }
   ],
   "source": [
    "np.unique(scvi_pred[2000:4000],return_counts=True)"
   ]
  },
  {
   "cell_type": "code",
   "execution_count": 185,
   "metadata": {},
   "outputs": [],
   "source": [
    "# compute average classification accuracy \n",
    "truelab = np.genfromtxt(save_path + 'DE.obsv.labels.csv',)\n",
    "batch = np.genfromtxt(save_path + 'DE.obsv.batch.csv',)\n",
    "scvi = []\n",
    "scanvi=[]\n",
    "for i in range(50):\n",
    "    pred = pd.read_csv(save_path + 'pred_labels.%i.csv'%(i+1))\n",
    "    scvi_pred = np.asarray(pred['scVI'])\n",
    "    scvi.append([np.mean(scvi_pred==truelab),\n",
    "        np.mean(scvi_pred[batch==0]==truelab[batch==0]),\n",
    "        np.mean(scvi_pred[batch==1]==truelab[batch==1])])\n",
    "    scanvi_pred = np.asarray(pred['scANVI'])\n",
    "    scanvi.append([np.mean(scanvi_pred==truelab),\n",
    "        np.mean(scanvi_pred[batch==0]==truelab[batch==0]),\n",
    "        np.mean(scanvi_pred[batch==1]==truelab[batch==1])])\n",
    "\n"
   ]
  },
  {
   "cell_type": "code",
   "execution_count": 186,
   "metadata": {},
   "outputs": [
    {
     "name": "stdout",
     "output_type": "stream",
     "text": [
      "average accuracy = 0.896±0.002\n",
      "average accuracy = 0.907±0.002\n",
      "average accuracy = 0.886±0.002\n"
     ]
    }
   ],
   "source": [
    "mean = np.asarray(scvi).mean(axis=0)\n",
    "std = np.asarray(scvi).std(axis=0)\n",
    "for i in range(3):\n",
    "    print('average accuracy = %.3f±%.3f' % (mean[i],std[i]))"
   ]
  },
  {
   "cell_type": "code",
   "execution_count": 187,
   "metadata": {},
   "outputs": [
    {
     "name": "stdout",
     "output_type": "stream",
     "text": [
      "average accuracy = 0.905±0.001\n",
      "average accuracy = 0.904±0.001\n",
      "average accuracy = 0.905±0.002\n"
     ]
    }
   ],
   "source": [
    "mean = np.asarray(scanvi).mean(axis=0)\n",
    "std = np.asarray(scanvi).std(axis=0)\n",
    "for i in range(3):\n",
    "    print('average accuracy = %.3f±%.3f' % (mean[i],std[i]))"
   ]
  },
  {
   "cell_type": "code",
   "execution_count": 190,
   "metadata": {},
   "outputs": [],
   "source": [
    "# compute average classification accuracy \n",
    "truelab = np.genfromtxt(save_path + 'DE.obsv.labels.csv',)\n",
    "batch = np.genfromtxt(save_path + 'DE.obsv.batch.csv',)\n",
    "scvi = []\n",
    "scanvi=[]\n",
    "for i in range(36):\n",
    "    pred = pd.read_csv(save_path + 'pred_labels.%i.mis0.01.csv'%(i+1))\n",
    "    scvi_pred = np.asarray(pred['scVI'])\n",
    "    scvi.append([np.mean(scvi_pred==truelab),\n",
    "        np.mean(scvi_pred[batch==0]==truelab[batch==0]),\n",
    "        np.mean(scvi_pred[batch==1]==truelab[batch==1])])\n",
    "    scanvi_pred = np.asarray(pred['scANVI'])\n",
    "    scanvi.append([np.mean(scanvi_pred==truelab),\n",
    "        np.mean(scanvi_pred[batch==0]==truelab[batch==0]),\n",
    "        np.mean(scanvi_pred[batch==1]==truelab[batch==1])])\n",
    "\n"
   ]
  },
  {
   "cell_type": "code",
   "execution_count": 191,
   "metadata": {},
   "outputs": [
    {
     "name": "stdout",
     "output_type": "stream",
     "text": [
      "average accuracy = 0.718±0.028\n",
      "average accuracy = 0.795±0.023\n",
      "average accuracy = 0.643±0.038\n"
     ]
    }
   ],
   "source": [
    "mean = np.asarray(scvi).mean(axis=0)\n",
    "std = np.asarray(scvi).std(axis=0)\n",
    "for i in range(3):\n",
    "    print('average accuracy = %.3f±%.3f' % (mean[i],std[i]))"
   ]
  },
  {
   "cell_type": "code",
   "execution_count": 192,
   "metadata": {},
   "outputs": [
    {
     "name": "stdout",
     "output_type": "stream",
     "text": [
      "average accuracy = 0.885±0.008\n",
      "average accuracy = 0.888±0.008\n",
      "average accuracy = 0.881±0.011\n"
     ]
    }
   ],
   "source": [
    "mean = np.asarray(scanvi).mean(axis=0)\n",
    "std = np.asarray(scanvi).std(axis=0)\n",
    "for i in range(3):\n",
    "    print('average accuracy = %.3f±%.3f' % (mean[i],std[i]))"
   ]
  },
  {
   "cell_type": "code",
   "execution_count": null,
   "metadata": {},
   "outputs": [],
   "source": []
  },
  {
   "cell_type": "code",
   "execution_count": null,
   "metadata": {},
   "outputs": [],
   "source": []
  }
 ],
 "metadata": {
  "kernelspec": {
   "display_name": "pytorch_new",
   "language": "python",
   "name": "pytorch_new"
  },
  "language_info": {
   "codemirror_mode": {
    "name": "ipython",
    "version": 3
   },
   "file_extension": ".py",
   "mimetype": "text/x-python",
   "name": "python",
   "nbconvert_exporter": "python",
   "pygments_lexer": "ipython3",
   "version": "3.6.8"
  }
 },
 "nbformat": 4,
 "nbformat_minor": 2
}
