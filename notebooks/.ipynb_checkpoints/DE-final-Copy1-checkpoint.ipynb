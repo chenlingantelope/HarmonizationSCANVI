{
 "cells": [
  {
   "cell_type": "markdown",
   "metadata": {},
   "source": [
    "Chenling: you have to run this in R to install the R packages\n",
    "\n",
    "install.packages(\"idr\")\n",
    "\n",
    "source(\"https://bioconductor.org/biocLite.R\")\n",
    "\n",
    "biocLite(\"edgeR\")\n",
    "\n",
    "biocLite(\"DESeq2\")"
   ]
  },
  {
   "cell_type": "code",
   "execution_count": 1,
   "metadata": {},
   "outputs": [
    {
     "data": {
      "text/plain": [
       "'/home/ec2-user/scVI'"
      ]
     },
     "execution_count": 1,
     "metadata": {},
     "output_type": "execute_result"
    }
   ],
   "source": [
    "%load_ext autoreload\n",
    "%autoreload 2\n",
    "\n",
    "import os\n",
    "os.chdir(\"/home/ec2-user/scVI/\")\n",
    "import sys\n",
    "os.environ[\"PATH\"] += os.pathsep + '/home/ec2-user/anaconda3/envs/pytorch_p36/bin/R'\n",
    "os.environ[\"R_HOME\"] = '/home/ec2-user/anaconda3/envs/pytorch_p36/lib/R'\n",
    "os.getcwd()"
   ]
  },
  {
   "cell_type": "code",
   "execution_count": 2,
   "metadata": {
    "collapsed": true
   },
   "outputs": [],
   "source": [
    "import matplotlib.pyplot as plt\n",
    "import matplotlib\n",
    "matplotlib.rcParams['pdf.fonttype'] = 42\n",
    "matplotlib.rcParams['ps.fonttype'] = 42\n",
    "%matplotlib inline"
   ]
  },
  {
   "cell_type": "code",
   "execution_count": 36,
   "metadata": {
    "collapsed": true
   },
   "outputs": [],
   "source": [
    "%matplotlib inline"
   ]
  },
  {
   "cell_type": "code",
   "execution_count": 4,
   "metadata": {
    "collapsed": true
   },
   "outputs": [],
   "source": [
    "from scvi.dataset.dataset10X import Dataset10X\n",
    "from scvi.dataset.pbmc import PbmcDataset\n",
    "import pandas as pd\n",
    "\n",
    "from scvi.models.vae import VAE\n",
    "from scvi.models.scanvi import SCANVI\n",
    "from scvi.inference import UnsupervisedTrainer, SemiSupervisedTrainer, AlternateSemiSupervisedTrainer\n",
    "from sklearn.metrics import roc_auc_score\n",
    "from scvi.inference.posterior import get_bayes_factors\n",
    "from scvi.inference.posterior import *\n",
    "import numpy as np\n",
    "from scvi.dataset.dataset import GeneExpressionDataset\n",
    "import os\n",
    "from scvi.metrics.clustering import select_indices_evenly"
   ]
  },
  {
   "cell_type": "code",
   "execution_count": 5,
   "metadata": {},
   "outputs": [
    {
     "name": "stdout",
     "output_type": "stream",
     "text": [
      "File data/gene_info_pbmc.csv already downloaded\n",
      "File data/pbmc_metadata.pickle already downloaded\n",
      "File data/10X/pbmc8k/filtered_gene_bc_matrices.tar.gz already downloaded\n",
      "Preprocessing dataset\n",
      "Finished preprocessing dataset\n",
      "Downsampling from 33694 to 21425 genes\n",
      "Downsampling from 8381 to 8381 cells\n",
      "File data/10X/pbmc4k/filtered_gene_bc_matrices.tar.gz already downloaded\n",
      "Preprocessing dataset\n",
      "Finished preprocessing dataset\n",
      "Downsampling from 33694 to 19773 genes\n",
      "Downsampling from 4340 to 4340 cells\n",
      "Keeping 19039 genes\n",
      "Downsampling from 12721 to 11990 cells\n",
      "Downsampling from 19039 to 19036 genes\n",
      "Downsampling from 11990 to 11990 cells\n",
      "Downsampling from 19036 to 3346 genes\n",
      "Downsampling from 11990 to 11990 cells\n",
      "Downsampling from 11990 to 7982 cells\n"
     ]
    },
    {
     "name": "stderr",
     "output_type": "stream",
     "text": [
      "/home/ec2-user/anaconda3/envs/pytorch_p36/lib/python3.6/site-packages/numpy/matrixlib/defmatrix.py:536: RuntimeWarning: Mean of empty slice.\n",
      "  return N.ndarray.mean(self, axis, dtype, out, keepdims=True)._collapse(axis)\n",
      "/home/ec2-user/anaconda3/envs/pytorch_p36/lib/python3.6/site-packages/numpy/core/_methods.py:73: RuntimeWarning: invalid value encountered in true_divide\n",
      "  ret, rcount, out=ret, casting='unsafe', subok=False)\n",
      "/home/ec2-user/anaconda3/envs/pytorch_p36/lib/python3.6/site-packages/numpy/matrixlib/defmatrix.py:604: RuntimeWarning: Degrees of freedom <= 0 for slice\n",
      "  return N.ndarray.var(self, axis, dtype, out, ddof, keepdims=True)._collapse(axis)\n",
      "/home/ec2-user/anaconda3/envs/pytorch_p36/lib/python3.6/site-packages/numpy/core/_methods.py:105: RuntimeWarning: invalid value encountered in true_divide\n",
      "  arrmean, rcount, out=arrmean, casting='unsafe', subok=False)\n",
      "/home/ec2-user/anaconda3/envs/pytorch_p36/lib/python3.6/site-packages/numpy/core/_methods.py:125: RuntimeWarning: invalid value encountered in true_divide\n",
      "  ret, rcount, out=ret, casting='unsafe', subok=False)\n"
     ]
    },
    {
     "name": "stdout",
     "output_type": "stream",
     "text": [
      "File data/10X/fresh_68k_pbmc_donor_a/filtered_gene_bc_matrices.tar.gz already downloaded\n",
      "Preprocessing dataset\n",
      "Finished preprocessing dataset\n",
      "Keeping 3343 genes\n",
      "(145, 145, 137, 138)\n",
      "['Other' 'Megakaryocytes' 'FCGR3A+ Monocytes' 'CD8 T cells'\n",
      " 'CD14+ Monocytes' 'unlabelled' 'NK cells' 'Dendritic Cells' 'CD4 T cells'\n",
      " 'B cells']\n",
      "['Unnamed: 0' 'ENSG' 'GS' 'CD_logFC' 'CD_AveExpr' 'CD_t' 'CD_P.Value'\n",
      " 'CD_adj.P.Val' 'CD_B' 'BDC_logFC' 'BDC_AveExpr' 'BDC_t' 'BDC_P.Value'\n",
      " 'BDC_adj.P.Val' 'BDC_B' 'BDC2_logFC' 'BDC2_AveExpr' 'BDC2_t'\n",
      " 'BDC2_P.Value' 'BDC2_adj.P.Val' 'BDC2_B']\n"
     ]
    }
   ],
   "source": [
    "def auc_score_threshold(gene_set, bayes_factor, gene_symbols):\n",
    "    # put ones on the genes from the gene_set\n",
    "    true_labels = np.array([g in gene_set for g in gene_symbols])\n",
    "    estimated_score = np.abs(bayes_factor)\n",
    "    indices = np.isfinite(estimated_score)\n",
    "    return roc_auc_score(true_labels[indices], estimated_score[indices])\n",
    "\n",
    "\n",
    "def WeightedAccuracy(y,y_pred,cell_types):\n",
    "    res = dict()\n",
    "    for i in np.unique(y):\n",
    "        res[cell_types[i]] = (np.mean(y_pred[y == i] == i), sum(y==i))\n",
    "    return(res)\n",
    "\n",
    "\n",
    "\n",
    "pbmc = PbmcDataset()\n",
    "de_data  = pbmc.de_metadata\n",
    "pbmc.update_cells(pbmc.batch_indices.ravel()==0)\n",
    "# pbmc.labels = pbmc.labels.reshape(len(pbmc),1)\n",
    "\n",
    "donor = Dataset10X('fresh_68k_pbmc_donor_a')\n",
    "donor.gene_names = donor.gene_symbols\n",
    "donor.labels = np.repeat(0,len(donor)).reshape(len(donor),1)\n",
    "donor.cell_types = ['unlabelled']\n",
    "all_dataset = GeneExpressionDataset.concat_datasets(pbmc, donor)\n",
    "\n",
    "# Now resolve the Gene symbols to properly work with the DE\n",
    "all_gene_symbols = donor.gene_symbols[\n",
    "    np.array(\n",
    "        [np.where(donor.gene_names == x)[0][0] for x in list(all_dataset.gene_names)]\n",
    "    )]\n",
    "\n",
    "\n",
    "#####################################################################\n",
    "# Gene sets 1\n",
    "############################################################################\n",
    "path_geneset = \"Additional_Scripts/genesets.txt\"\n",
    "geneset_matrix = np.loadtxt(path_geneset, dtype=np.str)[:, 2:]\n",
    "CD4_TCELL_VS_BCELL_NAIVE, CD8_TCELL_VS_BCELL_NAIVE, CD8_VS_CD4_NAIVE_TCELL, NAIVE_CD8_TCELL_VS_NKCELL \\\n",
    "    = [set(geneset_matrix[i:i + 2, :].flatten()) & set(all_gene_symbols) for i in [0, 2, 4, 6]]\n",
    "\n",
    "# these are the length of the positive gene sets for the DE\n",
    "print((len(CD4_TCELL_VS_BCELL_NAIVE), len(CD8_TCELL_VS_BCELL_NAIVE),\n",
    "       len(CD8_VS_CD4_NAIVE_TCELL), len(NAIVE_CD8_TCELL_VS_NKCELL)))\n",
    "\n",
    "print(all_dataset.cell_types)\n",
    "\n",
    "comparisons = [\n",
    "    ['CD4 T cells', 'B cells'],\n",
    "    ['CD8 T cells', 'B cells'],\n",
    "    ['CD8 T cells', 'CD4 T cells'],\n",
    "    ['CD8 T cells', 'NK cells']\n",
    "               ]\n",
    "\n",
    "\n",
    "gene_sets = [CD4_TCELL_VS_BCELL_NAIVE,\n",
    "             CD8_TCELL_VS_BCELL_NAIVE,\n",
    "             CD8_VS_CD4_NAIVE_TCELL,\n",
    "             NAIVE_CD8_TCELL_VS_NKCELL]\n",
    "\n",
    "#####################################################################\n",
    "# Gene sets 2\n",
    "############################################################################\n",
    "print(de_data.columns.values)\n",
    "CD = de_data['CD_adj.P.Val']\n",
    "BDC = de_data['BDC_adj.P.Val']\n",
    "BDC2 = de_data['BDC2_adj.P.Val']\n",
    "CD = np.asarray(de_data['GS'][CD<0.05])\n",
    "BDC = np.asarray(de_data['GS'][BDC<0.05])\n",
    "BDC2 = np.asarray(de_data['GS'][BDC2<0.05])\n",
    "\n",
    "gene_sets = [set(CD) & set(all_gene_symbols),\n",
    "             set(BDC)& set(all_gene_symbols),\n",
    "             set(BDC2) &  set(all_gene_symbols)]\n",
    "\n",
    "comparisons = [\n",
    "    ['CD8 T cells', 'CD4 T cells'],\n",
    "    ['B cells', 'Dendritic Cells'],\n",
    "    ['B cells', 'Dendritic Cells']\n",
    "               ]\n"
   ]
  },
  {
   "cell_type": "code",
   "execution_count": 6,
   "metadata": {
    "collapsed": true
   },
   "outputs": [],
   "source": [
    "vae = VAE(all_dataset.nb_genes, n_batch=all_dataset.n_batches, n_labels=all_dataset.n_labels,\n",
    "          n_hidden=128, n_latent=10, n_layers=2, dispersion='gene')\n",
    "\n",
    "import torch\n",
    "trainer = UnsupervisedTrainer(vae, all_dataset, train_size=1.0)\n",
    "# trainer.train(n_epochs=200)\n",
    "# torch.save(trainer.model,'../DE/vae.model.pkl')\n",
    "trainer.model = torch.load('DE/vae.model.pkl')\n",
    "\n",
    "trainer.train_set.entropy_batch_mixing()\n",
    "full = trainer.create_posterior(trainer.model, all_dataset, indices=np.arange(len(all_dataset)))\n",
    "latent, batch_indices, labels = full.sequential().get_latent()\n",
    "keys = all_dataset.cell_types\n",
    "\n",
    "\n",
    "from scvi.inference.posterior import entropy_batch_mixing\n",
    "sample = select_indices_evenly(2000, batch_indices)\n",
    "batch_entropy = entropy_batch_mixing(latent[sample, :], batch_indices[sample])\n"
   ]
  },
  {
   "cell_type": "code",
   "execution_count": 7,
   "metadata": {},
   "outputs": [
    {
     "data": {
      "text/plain": [
       "0.9625407166123778"
      ]
     },
     "execution_count": 7,
     "metadata": {},
     "output_type": "execute_result"
    }
   ],
   "source": [
    "latent_labelled = latent[batch_indices.ravel()==0, :]\n",
    "latent_unlabelled = latent[batch_indices.ravel()==1, :]\n",
    "labels_labelled = labels[batch_indices.ravel()==0]\n",
    "labels_unlabelled = labels[batch_indices.ravel()==1]\n",
    "n_labels = np.sum(batch_indices.ravel()==1)\n",
    "from sklearn.neighbors import KNeighborsClassifier\n",
    "neigh = KNeighborsClassifier(n_neighbors=10)\n",
    "neigh = neigh.fit(latent_labelled, labels_labelled)\n",
    "vae_pred = neigh.predict(latent)\n",
    "np.mean(vae_pred[batch_indices.ravel()==0]==labels[batch_indices.ravel()==0])"
   ]
  },
  {
   "cell_type": "markdown",
   "metadata": {},
   "source": [
    "## Code for running DE"
   ]
  },
  {
   "cell_type": "code",
   "execution_count": 8,
   "metadata": {},
   "outputs": [
    {
     "name": "stdout",
     "output_type": "stream",
     "text": [
      "Downsampling from 76561 to 68579 cells\n"
     ]
    },
    {
     "name": "stderr",
     "output_type": "stream",
     "text": [
      "/home/ec2-user/anaconda3/envs/pytorch_p36/lib/python3.6/site-packages/numpy/matrixlib/defmatrix.py:536: RuntimeWarning: Mean of empty slice.\n",
      "  return N.ndarray.mean(self, axis, dtype, out, keepdims=True)._collapse(axis)\n",
      "/home/ec2-user/anaconda3/envs/pytorch_p36/lib/python3.6/site-packages/numpy/core/_methods.py:73: RuntimeWarning: invalid value encountered in true_divide\n",
      "  ret, rcount, out=ret, casting='unsafe', subok=False)\n",
      "/home/ec2-user/anaconda3/envs/pytorch_p36/lib/python3.6/site-packages/numpy/matrixlib/defmatrix.py:604: RuntimeWarning: Degrees of freedom <= 0 for slice\n",
      "  return N.ndarray.var(self, axis, dtype, out, ddof, keepdims=True)._collapse(axis)\n",
      "/home/ec2-user/anaconda3/envs/pytorch_p36/lib/python3.6/site-packages/numpy/core/_methods.py:105: RuntimeWarning: invalid value encountered in true_divide\n",
      "  arrmean, rcount, out=arrmean, casting='unsafe', subok=False)\n",
      "/home/ec2-user/anaconda3/envs/pytorch_p36/lib/python3.6/site-packages/numpy/core/_methods.py:125: RuntimeWarning: invalid value encountered in true_divide\n",
      "  ret, rcount, out=ret, casting='unsafe', subok=False)\n"
     ]
    }
   ],
   "source": [
    "from copy import deepcopy\n",
    "batch2 = deepcopy(all_dataset)\n",
    "batch2.update_cells(batch_indices.ravel()==1)\n",
    "cell_type_label = \\\n",
    "    [[np.where(all_dataset.cell_types == x[i])[0].astype('int')[0] for i in [0, 1]] for x in comparisons]"
   ]
  },
  {
   "cell_type": "code",
   "execution_count": 9,
   "metadata": {},
   "outputs": [
    {
     "name": "stderr",
     "output_type": "stream",
     "text": [
      "/home/ec2-user/anaconda3/envs/pytorch_p36/lib/python3.6/site-packages/rpy2/rinterface/__init__.py:145: RRuntimeWarning: Loading required package: limma\n",
      "\n",
      "  warnings.warn(x, RRuntimeWarning)\n"
     ]
    }
   ],
   "source": [
    "from scipy.stats import kendalltau\n",
    "\n",
    "import rpy2\n",
    "from rpy2.robjects import r\n",
    "import rpy2.robjects as robj\n",
    "import rpy2.robjects.numpy2ri\n",
    "from rpy2.robjects.packages import importr\n",
    "rpy2.robjects.numpy2ri.activate()\n",
    "from rpy2.robjects.lib import grid\n",
    "from rpy2.robjects import r, Formula\n",
    "py2ri_orig = rpy2.robjects.conversion.py2ri\n",
    "from rpy2.rinterface import RRuntimeWarning\n",
    "\n",
    "r[\"library\"](\"idr\")\n",
    "\n",
    "def idr(bayes, p_value, p_prior=0.1):\n",
    "    p_val_1r = r.matrix(bayes[:, np.newaxis], nrow=3343, ncol=1)\n",
    "    r.assign(\"p_val_1\", p_val_1r)\n",
    "\n",
    "    p_val_2r = r.matrix(p_value[:, np.newaxis], nrow=3343, ncol=1)\n",
    "    r.assign(\"p_val_2\", p_val_2r)\n",
    "\n",
    "    r(\"x <- cbind(p_val_1[, 1], p_val_2[, 1])\")\n",
    "    r(\"mu = 1\")\n",
    "    r(\"sigma = 0.5\")\n",
    "    r(\"rho = 0.5\")\n",
    "    r.assign(\"p\", 0.25)\n",
    "    return kendalltau(bayes, p_value)[0]\n",
    "\n",
    "    r(\"idr.out <- est.IDR(x, mu, sigma, rho, p, eps=0.001, max.ite=20)\")\n",
    "    return r(\"idr.out$para$p\")[0]\n",
    "\n",
    "r[\"library\"](\"edgeR\")\n",
    "\n",
    "import pandas \n",
    "def conversion_pydataframe(obj):\n",
    "    \"\"\"\n",
    "    Convert pandas DataFrame or python object to an R dataframe/object.\n",
    "    \"\"\"\n",
    "    if isinstance(obj, pandas.core.frame.DataFrame):\n",
    "        od = OrderedDict()\n",
    "        for name, values in obj.iteritems():\n",
    "            if values.dtype.kind == 'O':\n",
    "                od[name] = rpy2.robjects.vectors.StrVector(values)\n",
    "            else:\n",
    "                od[name] = rpy2.robjects.conversion.py2ri(values)\n",
    "        return rpy2.robjects.vectors.DataFrame(od)\n",
    "    else:\n",
    "        return py2ri_orig(obj)"
   ]
  },
  {
   "cell_type": "code",
   "execution_count": 10,
   "metadata": {
    "collapsed": true
   },
   "outputs": [],
   "source": [
    "def run_edgeR(gene_expression, bio_assignment, gene_names, batch_info=None, batch=True):\n",
    "    if batch_info is None:\n",
    "        batch = False\n",
    "    r_counts = conversion_pydataframe(gene_expression)\n",
    "    r_bio_group = conversion_pydataframe(bio_assignment)\n",
    "    r_dge = r.DGEList(counts=r.t(r_counts), genes=gene_names)\n",
    "    r.assign(\"dge\", r_dge)\n",
    "    r.assign(\"bio_group\", r.factor(r_bio_group))\n",
    "    r(\"dge$samples$bio_group <- bio_group\")\n",
    "\n",
    "    if batch:\n",
    "        r_batch_group = conversion_pydataframe(batch_info)\n",
    "        r.assign(\"batch_group\", r.factor(r_batch_group))\n",
    "        r(\"dge$samples$batch_group <- batch_group\")\n",
    "\n",
    "    r(\"\"\"dge <- suppressWarnings(edgeR::calcNormFactors(dge))\"\"\")\n",
    "    \n",
    "    if not batch:\n",
    "        r(\"\"\"design <- model.matrix(~bio_group, data = dge$samples)\"\"\")\n",
    "        r(\"\"\"colnames(design) <- c(\"Intercept\", \"bio\")\"\"\")\n",
    "\n",
    "    if batch:\n",
    "        r(\"\"\"design <- model.matrix(~bio_group+batch_group, data = dge$samples)\"\"\")\n",
    "        r(\"\"\"colnames(design) <- c(\"Intercept\", \"bio\", \"batch\")\"\"\")\n",
    "\n",
    "    r(\"\"\"dge <- estimateDisp(dge, design)\"\"\")\n",
    "    \n",
    "    r(\"\"\"fit <- glmFit(dge, design)\"\"\")\n",
    "    if not batch:\n",
    "        r(\"\"\"lrt <- glmLRT(fit)\"\"\")\n",
    "    if batch:\n",
    "        r(\"\"\"lrt <- glmLRT(fit, coef=\"bio\")\"\"\")\n",
    "    return r(\"lrt$table$PValue\")"
   ]
  },
  {
   "cell_type": "code",
   "execution_count": 11,
   "metadata": {},
   "outputs": [
    {
     "data": {
      "text/plain": [
       "array([0.54443089, 0.67218622, 0.15043233, ..., 0.94562551, 0.81960669,\n",
       "       0.35838388])"
      ]
     },
     "execution_count": 11,
     "metadata": {},
     "output_type": "execute_result"
    }
   ],
   "source": [
    "# sanity check, this should work and return some numbers\n",
    "run_edgeR(all_dataset.X[:100].A, np.hstack((np.zeros(50), np.ones(50))), all_dataset.gene_names)\n",
    "run_edgeR(all_dataset.X[:100].A, \n",
    "          np.hstack((np.zeros(50), np.ones(50))), \n",
    "          all_dataset.gene_names, \n",
    "          batch_info=np.hstack((np.zeros(20), np.ones(80))))"
   ]
  },
  {
   "cell_type": "code",
   "execution_count": 12,
   "metadata": {},
   "outputs": [
    {
     "name": "stdout",
     "output_type": "stream",
     "text": [
      "0 ['CD8 T cells', 'CD4 T cells']\n",
      "1 ['B cells', 'Dendritic Cells']\n",
      "2 ['B cells', 'Dendritic Cells']\n"
     ]
    }
   ],
   "source": [
    "for t, comparison in enumerate(comparisons):\n",
    "    print(t, comparison)"
   ]
  },
  {
   "cell_type": "code",
   "execution_count": 13,
   "metadata": {
    "collapsed": true
   },
   "outputs": [],
   "source": [
    "interest_list = [\"CD\", \"BDC\"]\n",
    "p_prior_list = [0.03, 0.25]\n",
    "de_data.index = de_data[\"GS\"]"
   ]
  },
  {
   "cell_type": "markdown",
   "metadata": {},
   "source": [
    "## Running SCANVI"
   ]
  },
  {
   "cell_type": "code",
   "execution_count": 14,
   "metadata": {
    "collapsed": true
   },
   "outputs": [],
   "source": [
    "scanvi = SCANVI(all_dataset.nb_genes, all_dataset.n_batches, all_dataset.n_labels, n_layers=2)  \n",
    "                                       #,classifier_parameters = {'dropout_rate':0.5, 'n_hidden':256, 'n_layers':2})\n",
    "scanvi.load_state_dict(trainer.model.state_dict(), strict=False)\n",
    "trainer_scanvi = SemiSupervisedTrainer(scanvi, all_dataset, classification_ratio=50,\n",
    "                                        n_epochs_classifier=1, lr_classification=5 * 1e-3)\n",
    "#trainer_scanvi = AlternateSemiSupervisedTrainer(scanvi, all_dataset, n_epochs_classifier=10, lr_classification=5 * 1e-3)"
   ]
  },
  {
   "cell_type": "code",
   "execution_count": 15,
   "metadata": {
    "collapsed": true
   },
   "outputs": [],
   "source": [
    "trainer_scanvi.labelled_set = trainer_scanvi.create_posterior(indices=(all_dataset.batch_indices == 0))\n",
    "trainer_scanvi.unlabelled_set = trainer_scanvi.create_posterior(indices=(all_dataset.batch_indices == 1))"
   ]
  },
  {
   "cell_type": "code",
   "execution_count": 16,
   "metadata": {},
   "outputs": [
    {
     "name": "stdout",
     "output_type": "stream",
     "text": [
      "training: 100%|██████████| 5/5 [03:24<00:00, 40.88s/it] \n"
     ]
    }
   ],
   "source": [
    "trainer_scanvi.train(n_epochs=5)"
   ]
  },
  {
   "cell_type": "code",
   "execution_count": 17,
   "metadata": {},
   "outputs": [
    {
     "data": {
      "text/plain": [
       "0.9152364426427915"
      ]
     },
     "execution_count": 17,
     "metadata": {},
     "output_type": "execute_result"
    }
   ],
   "source": [
    "# check for conformity between scVI and SCANVI + kNN\n",
    "np.mean(trainer_scanvi.unlabelled_set.sequential().compute_predictions()[1] == neigh.predict(latent_unlabelled))"
   ]
  },
  {
   "cell_type": "code",
   "execution_count": 18,
   "metadata": {},
   "outputs": [
    {
     "data": {
      "text/plain": [
       "0.9898521673765973"
      ]
     },
     "execution_count": 18,
     "metadata": {},
     "output_type": "execute_result"
    }
   ],
   "source": [
    "trainer_scanvi.labelled_set.accuracy()"
   ]
  },
  {
   "cell_type": "code",
   "execution_count": 19,
   "metadata": {
    "collapsed": true
   },
   "outputs": [],
   "source": [
    "de_posterior = trainer_scanvi.create_posterior(trainer_scanvi.model, all_dataset, indices=np.arange(0,len(all_dataset)))"
   ]
  },
  {
   "cell_type": "code",
   "execution_count": 20,
   "metadata": {},
   "outputs": [
    {
     "data": {
      "text/plain": [
       "array([[1.5844224e-04, 2.1604316e-04, 1.9063588e-04, ..., 9.6071628e-05,\n",
       "        1.7231374e-04, 8.3957496e-04],\n",
       "       [1.3236134e-04, 2.1376499e-04, 1.3437915e-04, ..., 8.6953951e-05,\n",
       "        1.0544689e-04, 7.3279755e-04],\n",
       "       [1.3756900e-04, 1.9955589e-04, 1.6941081e-04, ..., 1.0360048e-04,\n",
       "        1.3027480e-04, 8.4826705e-04],\n",
       "       ...,\n",
       "       [1.6281690e-04, 2.7903850e-04, 1.3986556e-04, ..., 1.0236438e-04,\n",
       "        1.6243443e-04, 8.8155211e-04],\n",
       "       [1.6903596e-04, 1.7018788e-04, 2.1255649e-04, ..., 8.7246532e-05,\n",
       "        1.0700372e-04, 3.3576251e-04],\n",
       "       [1.5374410e-04, 2.7940745e-04, 1.6159036e-04, ..., 8.3014289e-05,\n",
       "        1.0733615e-04, 6.5302488e-04]], dtype=float32)"
      ]
     },
     "execution_count": 20,
     "metadata": {},
     "output_type": "execute_result"
    }
   ],
   "source": [
    "de_posterior.get_regenerate_scale(1,5)"
   ]
  },
  {
   "cell_type": "code",
   "execution_count": 21,
   "metadata": {
    "collapsed": true
   },
   "outputs": [],
   "source": [
    "def reimpute(t, c, s, gamma):\n",
    "    cell_idx = np.where(np.logical_and(vae_pred == cell_type_label[t][c], batch_indices.ravel() == s))[0]\n",
    "    # REIMPUTE\n",
    "    de_posterior = trainer_scanvi.create_posterior(trainer_scanvi.model, all_dataset, indices=cell_idx)\n",
    "    # counterfactuals ?\n",
    "    scale_info = de_posterior.get_regenerate_scale(gamma, int(cell_type_label[t][c]))\n",
    "    return scale_info"
   ]
  },
  {
   "cell_type": "code",
   "execution_count": 22,
   "metadata": {
    "collapsed": true
   },
   "outputs": [],
   "source": [
    "def bayes_SCANVI(t, comparaison, T=1, n_perm = 10000):\n",
    "    gene_set = gene_sets[t]\n",
    "            \n",
    "   \n",
    "    res_scanvi = np.zeros((3, 2, T)) # 3 datasets, 2 metrics, T indep runs\n",
    "    p_value = de_data[interest_list[t] + \"_adj.P.Val\"][all_gene_symbols].values\n",
    "    p_prior = p_prior_list[t]\n",
    "\n",
    "    for rep in range(T):\n",
    "                \n",
    "        #PBMC8K only\n",
    "        type_A = reimpute(t, 0, 0, 0)\n",
    "        type_B = reimpute(t, 1, 0, 0)\n",
    "        scale_pbmc = np.concatenate((type_A, type_B), axis=0)\n",
    "        local_labels = np.concatenate((np.ones(type_A.shape[0]), np.zeros(type_B.shape[0])))\n",
    "        bayes_pbmc = get_bayes_factors(scale_pbmc,\n",
    "                                       local_labels,\n",
    "                                       0,\n",
    "                                       1, m_permutation=n_perm)\n",
    "            \n",
    "        res_scanvi[0, 0, rep] = auc_score_threshold(gene_set, bayes_pbmc, all_gene_symbols)\n",
    "        res_scanvi[0, 1, rep] = idr(np.abs(bayes_pbmc), -np.log(p_value), p_prior=p_prior)\n",
    "        \n",
    "        # PBMC68K only    \n",
    "        type_A = reimpute(t, 0, 1, 1)\n",
    "        type_B = reimpute(t, 1, 1, 1)\n",
    "        questionable_scale_68k = np.concatenate((type_A, type_B), axis=0)\n",
    "        local_labels = np.concatenate((np.ones(type_A.shape[0]), np.zeros(type_B.shape[0])))\n",
    "        bayes_questionable = get_bayes_factors(questionable_scale_68k,\n",
    "                                       local_labels,\n",
    "                                       0,\n",
    "                                       1, m_permutation=n_perm)\n",
    "            \n",
    "        res_scanvi[1, 0, rep] = auc_score_threshold(gene_set, bayes_questionable, all_gene_symbols)\n",
    "        res_scanvi[1, 1, rep] = idr(np.abs(bayes_questionable), -np.log(p_value), p_prior=p_prior)\n",
    "        \n",
    "        #WHOLE PBMC\n",
    "        \n",
    "        #first all imputed pbmc\n",
    "        type_A = np.concatenate((reimpute(t, 0, 0, 0), reimpute(t, 0, 0, 1)), axis=0)\n",
    "        type_B = np.concatenate((reimpute(t, 1, 0, 1), reimpute(t, 1, 0, 1)), axis=0)\n",
    "        scale_pbmc = np.concatenate((type_A, type_B), axis=0)\n",
    "        local_labels = np.concatenate((np.ones(type_A.shape[0]), np.zeros(type_B.shape[0])))\n",
    "        probs_all_imputed_pbmc = get_bayes_factors(scale_pbmc,\n",
    "                                       local_labels,\n",
    "                                       0,\n",
    "                                       1,logit=False, m_permutation=n_perm)\n",
    "        \n",
    "        #second all imputed 68K\n",
    "        type_A = np.concatenate((reimpute(t, 0, 1, 0), reimpute(t, 0, 1, 1)), axis=0)\n",
    "        type_B = np.concatenate((reimpute(t, 1, 1, 1), reimpute(t, 1, 1, 1)), axis=0)\n",
    "        scale_68k = np.concatenate((type_A, type_B), axis=0)\n",
    "        local_labels = np.concatenate((np.ones(type_A.shape[0]), np.zeros(type_B.shape[0])))\n",
    "        probs_all_imputed_68k = get_bayes_factors(scale_68k,\n",
    "                                       local_labels,\n",
    "                                       0,\n",
    "                                       1,logit=False, m_permutation=n_perm)\n",
    "\n",
    "        p_s = 0.5\n",
    "        bayes_all_imputed = p_s * probs_all_imputed_pbmc + (1 - p_s) * probs_all_imputed_68k\n",
    "        bayes_all_imputed = np.log(bayes_all_imputed + 1e-8) - np.log(1 - bayes_all_imputed + 1e-8)\n",
    "        \n",
    "        res_scanvi[2, 0, rep] = auc_score_threshold(gene_set, bayes_all_imputed, all_gene_symbols)\n",
    "        res_scanvi[2, 1, rep] = idr(np.abs(bayes_all_imputed), -np.log(p_value), p_prior=p_prior)\n",
    "            \n",
    "    return res_scanvi\n"
   ]
  },
  {
   "cell_type": "code",
   "execution_count": 23,
   "metadata": {
    "collapsed": true
   },
   "outputs": [],
   "source": [
    "res_scanvi_CD = bayes_SCANVI(0, ['CD8 T cells', 'CD4 T cells'], T=10)"
   ]
  },
  {
   "cell_type": "code",
   "execution_count": 24,
   "metadata": {
    "collapsed": true
   },
   "outputs": [],
   "source": [
    "res_scanviBD = bayes_SCANVI(1, ['B cells', 'Dendritic Cells'], T=10)"
   ]
  },
  {
   "cell_type": "code",
   "execution_count": 25,
   "metadata": {},
   "outputs": [
    {
     "data": {
      "text/plain": [
       "array([[[0.75355677, 0.75404876, 0.75232891, 0.75562227, 0.75154006,\n",
       "         0.75410172, 0.75579927, 0.75683759, 0.75839577, 0.75545363],\n",
       "        [0.09392178, 0.09421277, 0.09381236, 0.09567076, 0.09388251,\n",
       "         0.09480927, 0.09480127, 0.09621219, 0.09585765, 0.09619044]],\n",
       "\n",
       "       [[0.75697975, 0.7557491 , 0.75576164, 0.75645014, 0.7553937 ,\n",
       "         0.75576582, 0.75716233, 0.75563202, 0.75616024, 0.75899089],\n",
       "        [0.08512385, 0.08497815, 0.08456746, 0.08445302, 0.08443489,\n",
       "         0.08489169, 0.08492336, 0.08505568, 0.08450675, 0.0853447 ]],\n",
       "\n",
       "       [[0.73406838, 0.73816871, 0.73419242, 0.73380357, 0.73359452,\n",
       "         0.73828439, 0.73251578, 0.73297292, 0.73467326, 0.73352762],\n",
       "        [0.05288846, 0.0542057 , 0.05311733, 0.05249796, 0.0525538 ,\n",
       "         0.05469712, 0.05256633, 0.05267418, 0.05347152, 0.05259211]]])"
      ]
     },
     "execution_count": 25,
     "metadata": {},
     "output_type": "execute_result"
    }
   ],
   "source": [
    "res_scanvi_CD"
   ]
  },
  {
   "cell_type": "code",
   "execution_count": 26,
   "metadata": {},
   "outputs": [
    {
     "data": {
      "text/plain": [
       "array([[[0.74628628, 0.75127942, 0.74998152, 0.74784154, 0.75212127,\n",
       "         0.74930323, 0.75155018, 0.75039829, 0.74763823, 0.74788589],\n",
       "        [0.25951783, 0.26460955, 0.26342725, 0.26208448, 0.26624848,\n",
       "         0.26156339, 0.26591456, 0.26486431, 0.26068286, 0.26091554]],\n",
       "\n",
       "       [[0.62438397, 0.62341898, 0.62536629, 0.62661914, 0.6297784 ,\n",
       "         0.62474252, 0.62585652, 0.62725353, 0.62002916, 0.62284396],\n",
       "        [0.12905798, 0.12909999, 0.1302171 , 0.13192547, 0.1348509 ,\n",
       "         0.13014945, 0.1314485 , 0.13267955, 0.12555571, 0.12833833]],\n",
       "\n",
       "       [[0.70492291, 0.70508093, 0.70362362, 0.70450776, 0.70515486,\n",
       "         0.70467017, 0.70498921, 0.70468541, 0.70358458, 0.70359313],\n",
       "        [0.20179742, 0.20238917, 0.20096275, 0.20170444, 0.20265138,\n",
       "         0.20193405, 0.20258573, 0.20224794, 0.20137356, 0.20110475]]])"
      ]
     },
     "execution_count": 26,
     "metadata": {},
     "output_type": "execute_result"
    }
   ],
   "source": [
    "res_scanviBD"
   ]
  },
  {
   "cell_type": "markdown",
   "metadata": {},
   "source": [
    "# Analysis for DE in PBMCs"
   ]
  },
  {
   "cell_type": "code",
   "execution_count": 27,
   "metadata": {
    "collapsed": true
   },
   "outputs": [],
   "source": [
    "# trainer = UnsupervisedTrainer(vae, all_dataset, train_size=1.0)\n",
    "# trainer.train(n_epochs=200)"
   ]
  },
  {
   "cell_type": "code",
   "execution_count": 28,
   "metadata": {
    "collapsed": true
   },
   "outputs": [],
   "source": [
    "def bayes(t, comparaison, T=1, n_perm = 10000):\n",
    "    gene_set = gene_sets[t]\n",
    "    \n",
    "    cell_idx_8k = np.where(np.logical_or(\n",
    "        all_dataset.labels.ravel() == cell_type_label[t][0],\n",
    "        all_dataset.labels.ravel() == cell_type_label[t][1]))[0]\n",
    "    \n",
    "    cell_idx_68k = np.where(np.logical_or(\n",
    "        vae_pred[batch_indices.ravel()==1] == cell_type_label[t][0],\n",
    "        vae_pred[batch_indices.ravel()==1] == cell_type_label[t][1]))[0]\n",
    "    \n",
    "    cell_indices = np.where(np.logical_or(\n",
    "        vae_pred == cell_type_label[t][0],\n",
    "        vae_pred == cell_type_label[t][1]))[0]\n",
    "\n",
    "    joint_de_posterior = trainer.create_posterior(trainer.model, all_dataset, indices=cell_indices)\n",
    "    scale_pbmc = joint_de_posterior.sequential().get_harmonized_scale(0)\n",
    "    scale_68k = joint_de_posterior.sequential().get_harmonized_scale(1)\n",
    "    questionable_de_posterior = trainer.create_posterior(trainer.model, batch2, indices=cell_idx_68k)\n",
    "    questionable_scale_68k = questionable_de_posterior.sequential().get_harmonized_scale(1)\n",
    "    \n",
    "    res_vi = np.zeros((3, 2, T)) # 3 datasets, 2 metrics, T indep runs\n",
    "    res_eR = np.zeros((3, 2, T))\n",
    "    p_value = de_data[interest_list[t] + \"_adj.P.Val\"][all_gene_symbols].values\n",
    "    p_prior = p_prior_list[t]\n",
    "\n",
    "    for rep in range(T):\n",
    "        \n",
    "        #PBMC8K only\n",
    "        bayes_pbmc = get_bayes_factors(scale_pbmc,\n",
    "                                       all_dataset.labels.ravel()[cell_indices],\n",
    "                                       cell_type_label[t][0],\n",
    "                                       cell_type_label[t][1], m_permutation=n_perm)\n",
    "            \n",
    "        res_vi[0, 0, rep] = auc_score_threshold(gene_set, bayes_pbmc, all_gene_symbols)\n",
    "        res_vi[0, 1, rep] = idr(np.abs(bayes_pbmc), -np.log(p_value), p_prior=p_prior)\n",
    "        \n",
    "        ind_0 = np.random.choice(np.where(all_dataset.labels.ravel() == cell_type_label[t][0])[0], 100)\n",
    "        ind_1 = np.random.choice(np.where(all_dataset.labels.ravel() == cell_type_label[t][1])[0], 100)\n",
    "        expression_data = np.vstack((all_dataset.X[ind_0].A, all_dataset.X[ind_1].A))\n",
    "        bio_data = np.hstack((all_dataset.labels.ravel()[ind_0], all_dataset.labels.ravel()[ind_1]))\n",
    "        edgeR_pbmc = run_edgeR(expression_data, bio_data, all_dataset.gene_names)\n",
    "        \n",
    "        res_eR[0, 0, rep] = auc_score_threshold(gene_set, -np.log(edgeR_pbmc), all_gene_symbols)\n",
    "        res_eR[0, 1, rep] = idr(-np.log(edgeR_pbmc), -np.log(p_value), p_prior=p_prior)\n",
    "        \n",
    "        # PBMC68K only        \n",
    "        bayes_questionable = get_bayes_factors(questionable_scale_68k,\n",
    "                                       vae_pred[batch_indices.ravel()==1][cell_idx_68k],\n",
    "                                       cell_type_label[t][0],\n",
    "                                       cell_type_label[t][1], logit=True, m_permutation=n_perm)\n",
    "        \n",
    "        res_vi[1, 0, rep] = auc_score_threshold(gene_set, bayes_questionable, all_gene_symbols)\n",
    "        res_vi[1, 1, rep] = idr(np.abs(bayes_questionable), -np.log(p_value), p_prior=p_prior)\n",
    "        \n",
    "        ind_0 = np.random.choice(np.where(vae_pred[batch_indices.ravel()==1] == cell_type_label[t][0])[0], 100)\n",
    "        ind_1 = np.random.choice(np.where(vae_pred[batch_indices.ravel()==1] == cell_type_label[t][1])[0], 100)\n",
    "        expression_data = np.vstack((all_dataset.X[batch_indices.ravel()==1][ind_0].A, \n",
    "                                     all_dataset.X[batch_indices.ravel()==1][ind_1].A))\n",
    "        bio_data = np.hstack((vae_pred[batch_indices.ravel()==1][ind_0], \n",
    "                                vae_pred[batch_indices.ravel()==1][ind_1]))\n",
    "        edgeR_68k = run_edgeR(expression_data, bio_data, all_dataset.gene_names)\n",
    "        \n",
    "        \n",
    "        res_eR[1, 0, rep] = auc_score_threshold(gene_set, -np.log(edgeR_68k), all_gene_symbols)\n",
    "        res_eR[1, 1, rep] = idr(-np.log(edgeR_68k), -np.log(p_value), p_prior=p_prior)\n",
    "        \n",
    "        \n",
    "        #WHOLE PBMC\n",
    "        probs_all_imputed_pbmc = get_bayes_factors(scale_pbmc,\n",
    "                                                   vae_pred[cell_indices],\n",
    "                                                   cell_type_label[t][0],\n",
    "                                                   cell_type_label[t][1], logit=False, m_permutation=n_perm)\n",
    "        probs_all_imputed_68k = get_bayes_factors(scale_68k,\n",
    "                                                  vae_pred[cell_indices],\n",
    "                                                  cell_type_label[t][0],\n",
    "                                                  cell_type_label[t][1], logit=False, m_permutation=n_perm)\n",
    "\n",
    "        p_s = 0.5\n",
    "        bayes_all_imputed = p_s * probs_all_imputed_pbmc + (1 - p_s) * probs_all_imputed_68k\n",
    "        bayes_all_imputed = np.log(bayes_all_imputed + 1e-8) - np.log(1 - bayes_all_imputed + 1e-8)\n",
    "        \n",
    "        res_vi[2, 0, rep] = auc_score_threshold(gene_set, bayes_all_imputed, all_gene_symbols)\n",
    "        res_vi[2, 1, rep] = idr(np.abs(bayes_all_imputed), -np.log(p_value), p_prior=p_prior)\n",
    "        \n",
    "        \n",
    "        \n",
    "        ind_0 = np.random.choice(np.where(vae_pred == cell_type_label[t][0])[0], 100)\n",
    "        ind_1 = np.random.choice(np.where(vae_pred == cell_type_label[t][1])[0], 100)\n",
    "        expression_data = np.vstack((all_dataset.X[ind_0].A, \n",
    "                                     all_dataset.X[ind_1].A))\n",
    "        bio_data = np.hstack((vae_pred[ind_0], \n",
    "                                vae_pred[ind_1]))\n",
    "        batch_data = np.hstack((batch_indices.ravel()[ind_0], \n",
    "                                batch_indices.ravel()[ind_1]))\n",
    "        edgeR_all = run_edgeR(expression_data, bio_data, all_dataset.gene_names, batch_info=batch_data)\n",
    "        \n",
    "        res_eR[2, 0, rep] = auc_score_threshold(gene_set, -np.log(edgeR_all), all_gene_symbols)\n",
    "        res_eR[2, 1, rep] = idr(-np.log(edgeR_all), -np.log(p_value), p_prior=p_prior)\n",
    "            \n",
    "    return res_vi, res_eR\n"
   ]
  },
  {
   "cell_type": "code",
   "execution_count": 29,
   "metadata": {
    "collapsed": true,
    "scrolled": true
   },
   "outputs": [],
   "source": [
    "# res_vi_CD, res_eR_CD = bayes(0, ['CD8 T cells', 'CD4 T cells'], T=10)"
   ]
  },
  {
   "cell_type": "code",
   "execution_count": 30,
   "metadata": {
    "collapsed": true
   },
   "outputs": [],
   "source": [
    "res_vi_CD = np.zeros(shape=(3, 2, 20))\n",
    "res_vi_CD[:, :, 0:10] = np.array([[[0.74179377, 0.74341328, 0.74160423, 0.74092827, 0.74140632,\n",
    "         0.74038472, 0.74296032, 0.74308575, 0.74411432, 0.74314708],\n",
    "        [0.08750865, 0.08894623, 0.08789463, 0.08762385, 0.08780319,\n",
    "         0.08762654, 0.08826396, 0.08900238, 0.08873346, 0.08811804]],\n",
    "\n",
    "       [[0.74675263, 0.74551083, 0.74674288, 0.74913868, 0.74716935,\n",
    "         0.74822022, 0.74852684, 0.74792196, 0.74713312, 0.74715402],\n",
    "        [0.08048591, 0.08033702, 0.08046566, 0.08046593, 0.08016567,\n",
    "         0.08051044, 0.08016824, 0.07980553, 0.08121617, 0.08056803]],\n",
    "\n",
    "       [[0.76197345, 0.76349121, 0.76386194, 0.76282362, 0.76226056,\n",
    "         0.76212258, 0.76225777, 0.76212816, 0.7634271 , 0.76225917],\n",
    "        [0.09586819, 0.09568671, 0.09580298, 0.09603906, 0.09650841,\n",
    "         0.09511547, 0.09542531, 0.09559493, 0.09614803, 0.09609681]]])\n",
    "\n",
    "res_vi_CD[:, :, 10:20] = np.array([[[0.75417419, 0.75457558, 0.75468848, 0.75278605, 0.75332542,\n",
    "         0.75416165, 0.75286967, 0.75245155, 0.75249058, 0.75410033],\n",
    "        [0.09158216, 0.09102047, 0.09207042, 0.09157896, 0.09150232,\n",
    "         0.09132688, 0.09088955, 0.0913412 , 0.09111706, 0.09173033]],\n",
    "\n",
    "       [[0.79908962, 0.79865199, 0.79874398, 0.79935025, 0.80011819,\n",
    "         0.79805966, 0.79902551, 0.79841924, 0.79771541, 0.79759416],\n",
    "        [0.09859252, 0.09773535, 0.0975626 , 0.0980051 , 0.09800814,\n",
    "         0.0964899 , 0.09836047, 0.09763968, 0.09819487, 0.09751467]],\n",
    "\n",
    "       [[0.79269941, 0.79350777, 0.79318582, 0.79333077, 0.79405968,\n",
    "         0.79299488, 0.79301439, 0.79338931, 0.7933015 , 0.79138235],\n",
    "        [0.10209858, 0.10273243, 0.10230053, 0.10252938, 0.10292382,\n",
    "         0.10213497, 0.10260402, 0.10224322, 0.10237377, 0.10181907]]])\n",
    "\n",
    "res_scanvi_CD = np.zeros(shape=(3, 2, 20))\n",
    "\n",
    "res_scanvi_CD[:, :, :10] = np.array([[[0.73591227, 0.74181607, 0.74102305, 0.73939657, 0.7415429 ,\n",
    "         0.74234429, 0.74275126, 0.74165301, 0.74082653, 0.73958055],\n",
    "        [0.08576389, 0.08914505, 0.08794416, 0.0883914 , 0.08934365,\n",
    "         0.08863148, 0.08805632, 0.08908045, 0.08863834, 0.08748389]],\n",
    "\n",
    "       [[0.73813247, 0.73829135, 0.73999866, 0.7371262 , 0.73926138,\n",
    "         0.73710669, 0.73958194, 0.73939379, 0.73613806, 0.73713596],\n",
    "        [0.08108458, 0.08152833, 0.08175576, 0.08071192, 0.0820627 ,\n",
    "         0.08104455, 0.08215112, 0.08162892, 0.08114707, 0.0809839 ]],\n",
    "\n",
    "       [[0.73731714, 0.73618823, 0.7361283 , 0.73251717, 0.73472064,\n",
    "         0.7323987 , 0.73572412, 0.7329994 , 0.73235132, 0.73477918],\n",
    "        [0.05325123, 0.05274954, 0.0528162 , 0.05147266, 0.05318291,\n",
    "         0.0514511 , 0.05263902, 0.05149933, 0.0517519 , 0.05266503]]])\n",
    "\n",
    "res_scanvi_CD[:, :, 10:20] = np.array([[[0.72642243, 0.72194719, 0.72290886, 0.72434997, 0.72413952,\n",
    "         0.72289911, 0.72474718, 0.72087124, 0.72483638, 0.72704403],\n",
    "        [0.08455153, 0.08383432, 0.08644679, 0.08488945, 0.085161  ,\n",
    "         0.08583689, 0.08629802, 0.0857071 , 0.086799  , 0.08682616]],\n",
    "\n",
    "       [[0.71818554, 0.72028588, 0.7213256 , 0.71729217, 0.71859808,\n",
    "         0.71968379, 0.71805175, 0.71740088, 0.7206371 , 0.72063292],\n",
    "        [0.0764584 , 0.0765634 , 0.07685212, 0.07651119, 0.07691423,\n",
    "         0.07666002, 0.07657037, 0.07576228, 0.07721007, 0.07710098]],\n",
    "\n",
    "       [[0.73986765, 0.73857289, 0.73862724, 0.74205997, 0.74187879,\n",
    "         0.73936034, 0.74235544, 0.73938264, 0.7399903 , 0.73793456],\n",
    "        [0.05429242, 0.05423416, 0.05436585, 0.05527159, 0.05515136,\n",
    "         0.05405697, 0.05595232, 0.05381156, 0.05469455, 0.05400319]]])\n",
    "\n",
    "\n",
    "res_eR_CD = np.array([[[ 0.76960686,  0.71892282,  0.72494648,  0.75238605,\n",
    "          0.76890024,  0.70751661,  0.75340625,  0.74500072,\n",
    "          0.73596245,  0.70655913],\n",
    "        [ 0.04291846,  0.00267855,  0.03567862,  0.0423587 ,\n",
    "          0.03815828,  0.02030369,  0.06091144,  0.03342154,\n",
    "          0.03137338,  0.03229609]],\n",
    "\n",
    "       [[ 0.64782078,  0.63272121,  0.61034782,  0.59525801,\n",
    "          0.62588501,  0.61103631,  0.63377905,  0.60779591,\n",
    "          0.60141128,  0.62892611],\n",
    "        [-0.00643908, -0.02246596, -0.00749381,  0.00080053,\n",
    "         -0.00311443, -0.0044296 ,  0.01644145,  0.00226646,\n",
    "         -0.02082449,  0.00244452]],\n",
    "\n",
    "       [[ 0.65886323,  0.67516   ,  0.67036699,  0.66198934,\n",
    "          0.63316999,  0.64692601,  0.65000753,  0.63855951,\n",
    "          0.63738739,  0.66806596],\n",
    "        [ 0.01081833,  0.00459823, -0.00159639,  0.01723901,\n",
    "          0.0048482 ,  0.00922013,  0.00262937, -0.00441655,\n",
    "          0.01479358,  0.01156533]]])"
   ]
  },
  {
   "cell_type": "code",
   "execution_count": 31,
   "metadata": {
    "collapsed": true
   },
   "outputs": [],
   "source": [
    "# res_viBD, res_eRBD = bayes(1, ['B cells', 'Dendritic Cells'], T=10)"
   ]
  },
  {
   "cell_type": "code",
   "execution_count": 32,
   "metadata": {
    "collapsed": true
   },
   "outputs": [],
   "source": [
    "res_viBD = np.zeros(shape=(3, 2, 20))\n",
    "res_viBD[:, :, 0:10] = np.array([[[0.76216623, 0.7621787 , 0.76190101, 0.76309841, 0.76293924,\n",
    "         0.7629658 , 0.76238431, 0.76258438, 0.76264306, 0.7626761 ],\n",
    "        [0.27079867, 0.27089967, 0.27083262, 0.27195724, 0.27135307,\n",
    "         0.27161809, 0.27123275, 0.27124604, 0.27110905, 0.27136024]],\n",
    "\n",
    "       [[0.6647708 , 0.66397908, 0.66641847, 0.66500968, 0.66508222,\n",
    "         0.66401142, 0.66490156, 0.6627357 , 0.66476641, 0.66393403],\n",
    "        [0.17887529, 0.17828975, 0.18058998, 0.17899893, 0.17895525,\n",
    "         0.17814105, 0.17894282, 0.17672005, 0.17928901, 0.17828845]],\n",
    "\n",
    "       [[0.73260152, 0.73267499, 0.73358615, 0.73319918, 0.73316546,\n",
    "         0.73398051, 0.73346186, 0.73343437, 0.7333542 , 0.73397912],\n",
    "        [0.2442582 , 0.24450203, 0.24486564, 0.24488628, 0.24457159,\n",
    "         0.24527592, 0.24504063, 0.2447643 , 0.24495298, 0.24537476]]])\n",
    "\n",
    "res_viBD[:, :, 10:20] = np.array([[[0.75488502, 0.75374653, 0.75411455, 0.75401729, 0.75406719,\n",
    "         0.75420996, 0.75399627, 0.75460894, 0.75443475, 0.75364973],\n",
    "        [0.2638777 , 0.26282807, 0.26325461, 0.26283149, 0.2631392 ,\n",
    "         0.26339292, 0.26314752, 0.26362337, 0.26330234, 0.2628288 ]],\n",
    "\n",
    "       [[0.65061453, 0.650344  , 0.65092572, 0.65210856, 0.65120918,\n",
    "         0.6511579 , 0.65051103, 0.6497193 , 0.64993115, 0.65079588],\n",
    "        [0.15986153, 0.15937252, 0.16013605, 0.16154904, 0.160391  ,\n",
    "         0.16011636, 0.15967454, 0.15909964, 0.15904088, 0.15983152]],\n",
    "\n",
    "       [[0.7162087 , 0.71617104, 0.71592916, 0.71521645, 0.71573926,\n",
    "         0.71538278, 0.71668923, 0.71594856, 0.71633877, 0.71671949],\n",
    "        [0.23016267, 0.23022916, 0.229731  , 0.2291882 , 0.2297717 ,\n",
    "         0.22934815, 0.23083626, 0.23023846, 0.23039364, 0.23059034]]])\n",
    "\n",
    "res_scanviBD = np.zeros(shape=(3, 2, 20))\n",
    "\n",
    "res_scanviBD[:, :, 0:10] = np.array([[[0.75741636, 0.75759194, 0.75530756, 0.75769798, 0.75687253,\n",
    "         0.75750345, 0.75652114, 0.75726688, 0.75536116, 0.75609097],\n",
    "        [0.26981428, 0.26968712, 0.26795401, 0.26931847, 0.26893219,\n",
    "         0.26969672, 0.26857317, 0.26922094, 0.26761619, 0.26827264]],\n",
    "\n",
    "       [[0.61778868, 0.61487407, 0.61268003, 0.61774986, 0.61310765,\n",
    "         0.61494823, 0.61750544, 0.61525688, 0.61407726, 0.61757244],\n",
    "        [0.12643376, 0.12426852, 0.12215373, 0.12657811, 0.12234908,\n",
    "         0.12382592, 0.12636433, 0.12479465, 0.12327429, 0.12611727]],\n",
    "\n",
    "       [[0.70791976, 0.70693767, 0.70634787, 0.70565133, 0.70654147,\n",
    "         0.70728075, 0.70637213, 0.70708992, 0.7073988 , 0.70590476],\n",
    "        [0.21001276, 0.20899559, 0.2084635 , 0.20813155, 0.20902723,\n",
    "         0.20955855, 0.20845892, 0.20910832, 0.20938078, 0.20817102]]])\n",
    "\n",
    "res_scanviBD[:, :, 10:20] = np.array([[[0.76208953, 0.76043308, 0.76239402, 0.76090783, 0.76078608,\n",
    "         0.76331119, 0.76113239, 0.76129134, 0.76086995, 0.76251323],\n",
    "        [0.27278669, 0.27165384, 0.27267647, 0.27240443, 0.27141383,\n",
    "         0.27418495, 0.27250955, 0.27185519, 0.27196155, 0.27315013]],\n",
    "\n",
    "       [[0.62128293, 0.62249188, 0.62497008, 0.62396281, 0.62468315,\n",
    "         0.62209244, 0.6229671 , 0.62243921, 0.62077675, 0.61347822],\n",
    "        [0.1311073 , 0.13233849, 0.13501059, 0.13417064, 0.13440472,\n",
    "         0.13212217, 0.13216301, 0.13185219, 0.13153761, 0.12328159]],\n",
    "\n",
    "       [[0.71552325, 0.71486182, 0.71476133, 0.71533704, 0.71545486,\n",
    "         0.71520282, 0.71598923, 0.71492975, 0.71560595, 0.7149205 ],\n",
    "        [0.21705476, 0.21682827, 0.21658671, 0.2171116 , 0.21707235,\n",
    "         0.21699594, 0.21809479, 0.21661098, 0.21735403, 0.21699208]]])\n",
    "\n",
    "\n",
    "res_eRBD = np.array([[[0.7416328 , 0.74108303, 0.7507067 , 0.75045367, 0.7474157 ,\n",
    "         0.73776104, 0.7328043 , 0.7499224 , 0.72650216, 0.73513615],\n",
    "        [0.24713109, 0.25346313, 0.25564169, 0.26018451, 0.25280303,\n",
    "         0.24126276, 0.24769716, 0.25299663, 0.23575936, 0.24152132]],\n",
    "\n",
    "       [[0.70013099, 0.68185462, 0.70254589, 0.69692252, 0.68672046,\n",
    "         0.69266935, 0.68556026, 0.69962944, 0.67819704, 0.68147574],\n",
    "        [0.20929109, 0.18102042, 0.20679624, 0.19731936, 0.20039674,\n",
    "         0.19525754, 0.1890307 , 0.21515119, 0.19126713, 0.17762601]],\n",
    "\n",
    "       [[0.71723514, 0.70821316, 0.70168463, 0.72272244, 0.72508906,\n",
    "         0.73544405, 0.70920518, 0.71120539, 0.72057794, 0.72148184],\n",
    "        [0.22764441, 0.21764863, 0.21054128, 0.2284016 , 0.21516779,\n",
    "         0.23869439, 0.2199275 , 0.22334562, 0.23646588, 0.23779653]]])"
   ]
  },
  {
   "cell_type": "code",
   "execution_count": 33,
   "metadata": {},
   "outputs": [
    {
     "data": {
      "text/plain": [
       "(3, 2, 20)"
      ]
     },
     "execution_count": 33,
     "metadata": {},
     "output_type": "execute_result"
    }
   ],
   "source": [
    "res_vi_CD.shape"
   ]
  },
  {
   "cell_type": "code",
   "execution_count": 37,
   "metadata": {},
   "outputs": [
    {
     "data": {
      "image/png": "[encoded data removed]",
      "text/plain": [
       "<Figure size 720x360 with 2 Axes>"
      ]
     },
     "metadata": {},
     "output_type": "display_data"
    }
   ],
   "source": [
    "plt.figure(figsize=(10, 5))\n",
    "props = dict(widths=0.2, patch_artist=True, medianprops=dict(color=\"black\"), whis=[5, 95], sym=\"\")\n",
    "\n",
    "#AUC CD$CD*\n",
    "ax = plt.subplot(1, 2, 1)\n",
    "ax.set_ylabel(\"AUC\")\n",
    "ax.set_xlabel(\"CD4 / CD8 Cell-sets\")\n",
    "\n",
    "\n",
    "bp1 = ax.boxplot([np.array(res_vi_CD)[i, 0] for i in range(3)], positions=[0, 1, 2], **props)\n",
    "bp2 = ax.boxplot([np.array(res_scanvi_CD)[i, 0] for i in [2]], positions=[2.2], **props)\n",
    "bp3 = ax.boxplot([np.array(res_eR_CD)[i, 0] for i in range(3)], positions=[0.2, 1.2, 2.4], **props)\n",
    "\n",
    "for patch in bp1['boxes']:\n",
    "    patch.set_facecolor('red')\n",
    "for patch in bp2['boxes']:\n",
    "    patch.set_facecolor('green')\n",
    "    \n",
    "ax.set_xticklabels(['A','B', 'A+B'])\n",
    "ax.legend([bp1[\"boxes\"][0], bp2[\"boxes\"][0], bp3[\"boxes\"][0]], ['scVI', 'SCANVI', 'edgeR'])\n",
    "\n",
    "# AUC BDC\n",
    "ax = plt.subplot(1, 2, 2)\n",
    "ax.set_ylabel(\"AUC\")\n",
    "ax.set_xlabel(\"B / DC Cell-sets\")\n",
    "\n",
    "bp1 = ax.boxplot([np.array(res_viBD)[i, 0] for i in range(3)], positions=[0, 1, 2], **props)\n",
    "bp2 = ax.boxplot([np.array(res_scanviBD)[i, 0] for i in [2]], positions=[2.2], **props)\n",
    "bp3 = ax.boxplot([np.array(res_eRBD)[i, 0] for i in range(3)], positions=[0.2, 1.2, 2.4], **props)\n",
    "\n",
    "for patch in bp1['boxes']:\n",
    "    patch.set_facecolor('red')\n",
    "for patch in bp2['boxes']:\n",
    "    patch.set_facecolor('green')\n",
    "    \n",
    "ax.set_xticklabels(['A','B', 'A+B'])\n",
    "ax.legend([bp1[\"boxes\"][0], bp2[\"boxes\"][0], bp3[\"boxes\"][0]], ['scVI', 'SCANVI', 'edgeR'])\n",
    "\n",
    "plt.tight_layout()\n",
    "plt.savefig(\"figures/DE_panel_1.pdf\", transparency=True)"
   ]
  },
  {
   "cell_type": "code",
   "execution_count": 38,
   "metadata": {},
   "outputs": [
    {
     "data": {
      "image/png": "[encoded data removed]",
      "text/plain": [
       "<Figure size 720x360 with 2 Axes>"
      ]
     },
     "metadata": {},
     "output_type": "display_data"
    }
   ],
   "source": [
    "plt.figure(figsize=(10, 5))\n",
    "props = dict(widths=0.2, patch_artist=True, medianprops=dict(color=\"black\"), whis=[5, 95], sym=\"\")\n",
    "\n",
    "#AUC CD$CD*\n",
    "ax = plt.subplot(1, 2, 1)\n",
    "ax.set_ylabel(\"Kendall-Tau\")\n",
    "ax.set_xlabel(\"CD4 / CD8 Cell-sets\")\n",
    "\n",
    "bp1 = ax.boxplot([np.array(res_vi_CD)[i, 1] for i in range(3)], positions=[0, 1, 2], **props)\n",
    "bp2 = ax.boxplot([np.array(res_scanvi_CD)[i, 1] for i in [2]], positions=[2.2], **props)\n",
    "bp3 = ax.boxplot([np.array(res_eR_CD)[i, 1] for i in range(3)], positions=[0.2, 1.2, 2.4], **props)\n",
    "\n",
    "for patch in bp1['boxes']:\n",
    "    patch.set_facecolor('red')\n",
    "for patch in bp2['boxes']:\n",
    "    patch.set_facecolor('green')\n",
    "    \n",
    "ax.set_xticklabels(['A','B', 'A+B'])\n",
    "ax.legend([bp1[\"boxes\"][0], bp2[\"boxes\"][0], bp3[\"boxes\"][0]], ['scVI', 'SCANVI', 'edgeR'])\n",
    "\n",
    "\n",
    "# AUC BDC\n",
    "ax = plt.subplot(1, 2, 2)\n",
    "ax.set_ylabel(\"Kendall-Tau\")\n",
    "ax.set_xlabel(\"B / DC Cell-sets\")\n",
    "\n",
    "\n",
    "bp1 = ax.boxplot([np.array(res_viBD)[i, 1] for i in range(3)], positions=[0, 1, 2], **props)\n",
    "bp2 = ax.boxplot([np.array(res_scanviBD)[i, 1] for i in [2]], positions=[2.2], **props)\n",
    "bp3 = ax.boxplot([np.array(res_eRBD)[i, 1] for i in range(3)], positions=[0.2, 1.2, 2.4], **props)\n",
    "\n",
    "for patch in bp1['boxes']:\n",
    "    patch.set_facecolor('red')\n",
    "for patch in bp2['boxes']:\n",
    "    patch.set_facecolor('green')\n",
    "    \n",
    "ax.set_xticklabels(['A','B', 'A+B'])\n",
    "ax.legend([bp1[\"boxes\"][0], bp2[\"boxes\"][0], bp3[\"boxes\"][0]], ['scVI', 'SCANVI', 'edgeR'])\n",
    "\n",
    "plt.tight_layout()\n",
    "plt.savefig(\"figures/DE_panel_2.pdf\", transparency=True)\n"
   ]
  },
  {
   "cell_type": "code",
   "execution_count": null,
   "metadata": {
    "collapsed": true
   },
   "outputs": [],
   "source": []
  }
 ],
 "metadata": {
  "kernelspec": {
   "display_name": "Python [conda env:pytorch_p36]",
   "language": "python",
   "name": "conda-env-pytorch_p36-py"
  },
  "language_info": {
   "codemirror_mode": {
    "name": "ipython",
    "version": 3
   },
   "file_extension": ".py",
   "mimetype": "text/x-python",
   "name": "python",
   "nbconvert_exporter": "python",
   "pygments_lexer": "ipython3",
   "version": "3.6.7"
  }
 },
 "nbformat": 4,
 "nbformat_minor": 2
}
