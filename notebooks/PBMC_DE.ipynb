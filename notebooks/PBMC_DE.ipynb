{
 "cells": [
  {
   "cell_type": "code",
   "execution_count": 1,
   "metadata": {},
   "outputs": [],
   "source": [
    "import os\n",
    "os.chdir(\"/data/yosef2/users/chenling/HarmonizationSCANVI\")\n",
    "import sys\n",
    "sys.path.append(\"/data/yosef2/users/chenling/HarmonizationSCANVI\")"
   ]
  },
  {
   "cell_type": "code",
   "execution_count": 2,
   "metadata": {},
   "outputs": [],
   "source": [
    "from scvi.dataset import GeneExpressionDataset\n",
    "from scvi.models import VAE\n",
    "from scvi.inference import UnsupervisedTrainer, AlternateSemiSupervisedTrainer\n",
    "from scvi.inference.posterior import get_IS_bayes_factors\n",
    "from sklearn.metrics import roc_auc_score\n",
    "from scipy.stats import spearmanr\n",
    "from sklearn.neighbors import KNeighborsClassifier\n",
    "from scipy.stats import kendalltau\n",
    "from scvi.models.scanvi import SCANVI\n",
    "from copy import deepcopy\n",
    "from scvi.dataset.dataset10X import Dataset10X\n",
    "from scvi.dataset.pbmc import PbmcDataset\n",
    "\n",
    "import numpy as np\n",
    "import pandas as pd\n",
    "import torch\n",
    "import os\n",
    "os.chdir('/data/yosef2/users/chenling/HarmonizationSCANVI')\n",
    "\n",
    "import sys"
   ]
  },
  {
   "cell_type": "code",
   "execution_count": 3,
   "metadata": {},
   "outputs": [],
   "source": [
    "import matplotlib.pyplot as plt\n",
    "import matplotlib\n",
    "matplotlib.rcParams['pdf.fonttype'] = 42\n",
    "matplotlib.rcParams['ps.fonttype'] = 42\n",
    "%matplotlib inline"
   ]
  },
  {
   "cell_type": "code",
   "execution_count": 68,
   "metadata": {},
   "outputs": [],
   "source": [
    "np.savetxt('../symsim_scVI/symsim_result/DE/PBMC.batchid.csv',gene_dataset.batch_indices.ravel(),delimiter=',')"
   ]
  },
  {
   "cell_type": "code",
   "execution_count": 74,
   "metadata": {},
   "outputs": [],
   "source": [
    "np.savetxt('../symsim_scVI/symsim_result/DE/PBMC.genenames.txt',gene_dataset.gene_names,delimiter=',',fmt='%s')"
   ]
  },
  {
   "cell_type": "code",
   "execution_count": 76,
   "metadata": {},
   "outputs": [],
   "source": [
    "from scipy.io import mmwrite\n",
    "mmwrite('../symsim_scVI/symsim_result/DE/PBMC.count.mtx',gene_dataset.X)"
   ]
  },
  {
   "cell_type": "code",
   "execution_count": 72,
   "metadata": {},
   "outputs": [
    {
     "name": "stdout",
     "output_type": "stream",
     "text": [
      "Downsampling from 32738 to 20387 genes\n",
      "Downsampling from 68579 to 68579 cells\n",
      "Keeping 3338 genes\n"
     ]
    }
   ],
   "source": [
    "save_path = \"../symsim_scVI/symsim_result/DE/\"\n",
    "\n",
    "pbmc = PbmcDataset()\n",
    "pbmc.update_cells(pbmc.batch_indices.ravel()==0)\n",
    "\n",
    "donor = Dataset10X('fresh_68k_pbmc_donor_a')\n",
    "donor.gene_names = donor.gene_symbols\n",
    "donor.labels = np.repeat(0,len(donor)).reshape(len(donor),1)\n",
    "donor.cell_types = ['unlabelled']\n",
    "donor.subsample_genes(donor.nb_genes)\n",
    "gene_dataset = GeneExpressionDataset.concat_datasets(pbmc, donor)\n",
    "edgeRgenes = gene_dataset.gene_names"
   ]
  },
  {
   "cell_type": "code",
   "execution_count": 73,
   "metadata": {},
   "outputs": [],
   "source": [
    "edgeRgenes = gene_dataset.gene_names"
   ]
  },
  {
   "cell_type": "code",
   "execution_count": 11,
   "metadata": {},
   "outputs": [],
   "source": [
    "scVI_labels = gene_dataset.labels.ravel()"
   ]
  },
  {
   "cell_type": "code",
   "execution_count": 12,
   "metadata": {},
   "outputs": [],
   "source": [
    "pred = pd.read_csv(save_path + 'PBMC.pred_labels.1.mis0.30.csv')\n",
    "labels = pred['labels']"
   ]
  },
  {
   "cell_type": "code",
   "execution_count": 13,
   "metadata": {},
   "outputs": [],
   "source": [
    "celltype_count = dict(zip(np.unique(gene_dataset.labels.ravel(),return_counts=True)[1],gene_dataset.cell_types))"
   ]
  },
  {
   "cell_type": "code",
   "execution_count": null,
   "metadata": {},
   "outputs": [],
   "source": [
    "import matplotlib\n",
    "matplotlib.rcParams['pdf.fonttype'] = 42\n",
    "matplotlib.rcParams['ps.fonttype'] = 42\n",
    "import matplotlib.pyplot as plt\n",
    "\n",
    "%matplotlib inline\n"
   ]
  },
  {
   "cell_type": "code",
   "execution_count": null,
   "metadata": {},
   "outputs": [],
   "source": [
    "from scipy.stats import kendalltau\n",
    "def auc_score_threshold(gene_set, bayes_factor, gene_symbols):\n",
    "    # put ones on the genes from the gene_set\n",
    "    true_labels = np.array([g in gene_set for g in gene_symbols])\n",
    "    estimated_score = np.abs(bayes_factor)\n",
    "    indices = np.isfinite(estimated_score)\n",
    "    return roc_auc_score(true_labels[indices], estimated_score[indices])\n",
    "\n",
    "\n",
    "import pandas \n",
    "def conversion_pydataframe(obj):\n",
    "    \"\"\"\n",
    "    Convert pandas DataFrame or python object to an R dataframe/object.\n",
    "    \"\"\"\n",
    "    if isinstance(obj, pandas.core.frame.DataFrame):\n",
    "        od = OrderedDict()\n",
    "        for name, values in obj.iteritems():\n",
    "            if values.dtype.kind == 'O':\n",
    "                od[name] = rpy2.robjects.vectors.StrVector(values)\n",
    "            else:\n",
    "                od[name] = rpy2.robjects.conversion.py2ri(values)\n",
    "        return rpy2.robjects.vectors.DataFrame(od)\n",
    "    else:\n",
    "        return py2ri_orig(obj)"
   ]
  },
  {
   "cell_type": "code",
   "execution_count": 80,
   "metadata": {},
   "outputs": [
    {
     "name": "stdout",
     "output_type": "stream",
     "text": [
      "['Unnamed: 0' 'ENSG' 'GS' 'CD_logFC' 'CD_AveExpr' 'CD_t' 'CD_P.Value'\n",
      " 'CD_adj.P.Val' 'CD_B' 'BDC_logFC' 'BDC_AveExpr' 'BDC_t' 'BDC_P.Value'\n",
      " 'BDC_adj.P.Val' 'BDC_B' 'BDC2_logFC' 'BDC2_AveExpr' 'BDC2_t'\n",
      " 'BDC2_P.Value' 'BDC2_adj.P.Val' 'BDC2_B']\n"
     ]
    }
   ],
   "source": [
    "all_gene_symbols = gene_dataset.gene_names\n",
    "de_data  = pbmc.de_metadata\n",
    "print(de_data.columns.values)\n",
    "CD = de_data['CD_adj.P.Val']\n",
    "BDC = de_data['BDC_adj.P.Val']\n",
    "BDC2 = de_data['BDC2_adj.P.Val']\n",
    "CD = np.asarray(de_data['GS'][CD<0.05])\n",
    "BDC = np.asarray(de_data['GS'][BDC<0.05])\n",
    "BDC2 = np.asarray(de_data['GS'][BDC2<0.05])\n",
    "\n",
    "gene_sets = [set(CD) & set(all_gene_symbols),\n",
    "             set(BDC)& set(all_gene_symbols),\n",
    "             set(BDC2) &  set(all_gene_symbols)]\n",
    "\n",
    "comparisons = [\n",
    "    ['CD8 T cells', 'CD4 T cells'],\n",
    "    ['B cells', 'Dendritic Cells'],\n",
    "    ['B cells', 'Dendritic Cells']\n",
    "               ]\n"
   ]
  },
  {
   "cell_type": "code",
   "execution_count": 6,
   "metadata": {},
   "outputs": [
    {
     "name": "stdout",
     "output_type": "stream",
     "text": [
      "SCVI\n",
      "for 0.00 mislabelled cells, average accuracy = 0.974±0.000\n",
      "scANVI\n",
      "for 0.00 mislabelled cells, average accuracy = 0.906±0.000\n",
      "SCVI\n",
      "for 0.01 mislabelled cells, average accuracy = 0.967±0.000\n",
      "scANVI\n",
      "for 0.01 mislabelled cells, average accuracy = 0.947±0.000\n",
      "SCVI\n",
      "for 0.05 mislabelled cells, average accuracy = 0.961±0.000\n",
      "scANVI\n",
      "for 0.05 mislabelled cells, average accuracy = 0.904±0.000\n",
      "SCVI\n",
      "for 0.10 mislabelled cells, average accuracy = 0.943±0.000\n",
      "scANVI\n",
      "for 0.10 mislabelled cells, average accuracy = 0.938±0.000\n",
      "SCVI\n",
      "for 0.15 mislabelled cells, average accuracy = 0.942±0.000\n",
      "scANVI\n",
      "for 0.15 mislabelled cells, average accuracy = 0.885±0.000\n",
      "SCVI\n",
      "for 0.20 mislabelled cells, average accuracy = 0.931±0.000\n",
      "scANVI\n",
      "for 0.20 mislabelled cells, average accuracy = 0.871±0.000\n"
     ]
    }
   ],
   "source": [
    "# compute average classification accuracy \n",
    "batch = np.genfromtxt(save_path + 'PBMC.batchid.csv',)\n",
    "scvi = []\n",
    "scanvi=[]\n",
    "for prop in [ 0.00, 0.01, 0.05, 0.10, 0.15, 0.20,0.25, 0.30]:\n",
    "    for i in range(2):\n",
    "        pred = pd.read_csv(save_path + 'PBMC.pred_labels.%i.mis%.2f.csv'%((i+1),prop))\n",
    "        truelab = np.asarray(pred['labels'])\n",
    "        scvi_pred = np.asarray(pred['scVI'])\n",
    "        scvi=np.mean(scvi_pred[batch==0]==truelab[batch==0])\n",
    "        scanvi_pred = np.asarray(pred['scANVI'])\n",
    "        scanvi=np.mean(scanvi_pred[batch==0]==truelab[batch==0])\n",
    "    print('SCVI')\n",
    "    print('for %.2f mislabelled cells, average accuracy = %.3f±%.3f' % (prop, scvi.mean(),scvi.std()))\n",
    "    print('scANVI')\n",
    "    print('for %.2f mislabelled cells, average accuracy = %.3f±%.3f' % (prop, scanvi.mean(),scanvi.std()))\n",
    "\n",
    "\n"
   ]
  },
  {
   "cell_type": "code",
   "execution_count": 173,
   "metadata": {},
   "outputs": [],
   "source": [
    "interest_list = [\"CD\", \"BDC\"]\n",
    "p_prior_list = [0.03, 0.25]\n",
    "de_data.index = de_data[\"GS\"]"
   ]
  },
  {
   "cell_type": "code",
   "execution_count": 174,
   "metadata": {},
   "outputs": [],
   "source": [
    "props = [ 0.00, 0.05, 0.10, 0.15, 0.20, 0.25,0.30]"
   ]
  },
  {
   "cell_type": "code",
   "execution_count": 175,
   "metadata": {},
   "outputs": [],
   "source": [
    "scvires={'bayes_A':{},'bayes_B':{},'bayes_AB':{},'bayes_scanviAB':{}}\n",
    "for type in ['bayes_A','bayes_B','bayes_AB','bayes_scanviAB']:\n",
    "    scvires[type] = {'CD4Tcells.CD8Tcells':{},'DendriticCells.Bcells':{}}\n",
    "    for t,comparison in enumerate([\"CD4Tcells.CD8Tcells\", \"DendriticCells.Bcells\"]):\n",
    "        gene_set = gene_sets[t]\n",
    "        p_value = de_data[interest_list[t] + \"_adj.P.Val\"][all_gene_symbols].values\n",
    "        p_prior = p_prior_list[t]\n",
    "        scvires[type][comparison] = {}\n",
    "        for prop in props:\n",
    "            scvires[type][comparison][prop]=[]\n",
    "            scvires[type][comparison][prop] = {'auc':[],'S':[],'K':[]}\n",
    "            for rep in np.arange(10):\n",
    "                X = pd.read_csv(os.path.join(save_path,'PBMC.%s.%i.mis%.2f.csv'%(comparison,rep+1,prop)))\n",
    "#                 print('PBMC.%s.%i.mis%.2f.csv'%(comparison,rep+1,prop))\n",
    "                X = X[type]\n",
    "                X = np.log(X + 1e-8) - np.log(1 - X + 1e-8)\n",
    "                AUC = auc_score_threshold(gene_set, np.abs(X), all_gene_symbols)\n",
    "                spear = np.abs(spearmanr(-np.log(p_value), np.abs(X))[0])\n",
    "                kend = np.abs(kendalltau(-np.log(p_value), np.abs(X))[0])\n",
    "                scvires[type][comparison][prop]['S'].append(spear)\n",
    "                scvires[type][comparison][prop]['K'].append(kend)\n",
    "                scvires[type][comparison][prop]['auc'].append(AUC)\n"
   ]
  },
  {
   "cell_type": "code",
   "execution_count": 176,
   "metadata": {},
   "outputs": [],
   "source": [
    "edgeR_com = {\"CD4Tcells.CD8Tcells\":'CD4CD8', \"DendriticCells.Bcells\":'BDC'}"
   ]
  },
  {
   "cell_type": "code",
   "execution_count": 177,
   "metadata": {},
   "outputs": [],
   "source": [
    "edgeR_res={}\n",
    "for prop in props:\n",
    "    edgeR_res[prop] = {'CD4CD8':{},'BDC':{}}\n",
    "    for t,comparison in enumerate([\"CD4CD8\", \"BDC\"]):\n",
    "        edgeR_res[prop][comparison] = {'A': {}, 'B': {}, 'AB': {}}\n",
    "        gene_set = gene_sets[t]\n",
    "        p_value = de_data[interest_list[t] + \"_adj.P.Val\"][edgeRgenes].values\n",
    "        p_prior = p_prior_list[t]\n",
    "        for batch in ['A', 'B', 'AB']:\n",
    "            edgeR_res[prop][comparison][batch] = {'auc':[],'S':[],'K':[]}\n",
    "            for rep in range(10):\n",
    "                X = pd.read_csv(os.path.join(save_path, 'EdgeR/PBMC.%s.%i.%s.%.2f.edgeR.csv') % \n",
    "                                (batch, (rep+1),comparison, prop))\n",
    "                X = -np.log(X['PValue'])\n",
    "                AUC = auc_score_threshold(gene_set, X, edgeRgenes)\n",
    "                spear = spearmanr(-np.log(p_value), X)[0]\n",
    "                kend = kendalltau(-np.log(p_value), X)[0]\n",
    "                edgeR_res[prop][comparison][batch]['auc'].append(AUC)\n",
    "                edgeR_res[prop][comparison][batch]['S'].append(spear)\n",
    "                edgeR_res[prop][comparison][batch]['K'].append(kend)"
   ]
  },
  {
   "cell_type": "code",
   "execution_count": 178,
   "metadata": {},
   "outputs": [
    {
     "data": {
      "image/png": "[encoded data removed]",
      "text/plain": [
       "<Figure size 864x576 with 4 Axes>"
      ]
     },
     "metadata": {
      "needs_background": "light"
     },
     "output_type": "display_data"
    }
   ],
   "source": [
    "batch='AB'\n",
    "measure_names = ['AUC','Kendall-Tau']\n",
    "plt.figure(figsize=(12, 8))\n",
    "for name, measure in enumerate([ 'auc', 'K']): \n",
    "    for row,comparison in enumerate([\"CD4Tcells.CD8Tcells\", \"DendriticCells.Bcells\"]):\n",
    "        boxes = dict(widths=0.1, patch_artist=True, medianprops=dict(color=\"black\"), whis=[5, 95], sym=\"\")\n",
    "        #AUC CD$CD*\n",
    "        ax = plt.subplot(2, 2, row*2+name+1)\n",
    "        ax.set_ylabel(measure_names[name])\n",
    "        plt.title(comparison)\n",
    "        bp1 = ax.boxplot([scvires['bayes_scanviAB'][comparison][prop][measure]\n",
    "                          for prop in props], \n",
    "                         positions=[x*10 for x in props], **boxes)\n",
    "\n",
    "        bp2 = ax.boxplot([scvires['bayes_AB'][comparison][prop][measure]\n",
    "                  for prop in props], \n",
    "                 positions=[(x*10+0.1) for x in props], **boxes)\n",
    "        \n",
    "        bp3 = ax.boxplot([edgeR_res[prop][edgeR_com[comparison]][batch][measure]\n",
    "                  for prop in props], \n",
    "                 positions=[(x*10+0.2) for x in props], **boxes)\n",
    "\n",
    "        for patch in bp1['boxes']:\n",
    "            patch.set_facecolor('green')\n",
    "        for patch in bp2['boxes']:\n",
    "            patch.set_facecolor('red')\n",
    "        for patch in bp3['boxes']:\n",
    "            patch.set_facecolor('blue')\n",
    "\n",
    "        ax.set_xticklabels(props)\n",
    "#         ax.legend([bp1[\"boxes\"][0], bp2[\"boxes\"][0], bp3[\"boxes\"][0]] ,['scANVI', 'scVI', 'EdgeR'])\n",
    "\n",
    "plt.savefig('PBMC.mislabelled.pdf')"
   ]
  },
  {
   "cell_type": "code",
   "execution_count": 183,
   "metadata": {},
   "outputs": [
    {
     "data": {
      "image/png": "[encoded data removed]",
      "text/plain": [
       "<Figure size 432x360 with 4 Axes>"
      ]
     },
     "metadata": {
      "needs_background": "light"
     },
     "output_type": "display_data"
    }
   ],
   "source": [
    "measure_names = ['AUC','Kendall-Tau']\n",
    "plt.figure(figsize=(6, 5))\n",
    "for name, measure in enumerate([ 'auc', 'K']): \n",
    "    for row,comparison in enumerate([\"CD4Tcells.CD8Tcells\", \"DendriticCells.Bcells\"]):\n",
    "        props = dict(widths=0.2, patch_artist=True, medianprops=dict(color=\"black\"), whis=[5, 95], sym=\"\")\n",
    "\n",
    "        #AUC CD$CD*\n",
    "        ax = plt.subplot(2, 2, row+name*2+1)\n",
    "        ax.set_ylabel(measure_names[name])\n",
    "#         ax.set_ylabel(comparison)\n",
    "        plt.title(comparison)\n",
    "        bp1 = ax.boxplot([np.abs(edgeR_res[0.0][edgeR_com[comparison]][x][measure]) for x in ['A','B','AB'] ], positions=[0.2, 1.2, 2.2], **props)\n",
    "        bp2 = ax.boxplot([scvires['bayes_scanviAB'][comparison][0.0][measure]], positions=[2.4], **props)\n",
    "        bp3 = ax.boxplot([scvires[x][comparison][0.0][measure] for x in ['bayes_A','bayes_B','bayes_AB']], positions=[0, 1, 2], **props)\n",
    "\n",
    "        for patch in bp3['boxes']:\n",
    "            patch.set_facecolor('red')\n",
    "        for patch in bp2['boxes']:\n",
    "            patch.set_facecolor('green')\n",
    "\n",
    "        ax.set_xticklabels(['A','B', 'A+B'])\n",
    "\n",
    "# ax.legend([bp1[\"boxes\"][0], bp2[\"boxes\"][0], bp3[\"boxes\"][0]], ['edgeR', 'SCANVI', 'scVI'])\n",
    "plt.tight_layout()\n",
    "plt.savefig('PBMC.DE.pdf')"
   ]
  },
  {
   "cell_type": "code",
   "execution_count": null,
   "metadata": {},
   "outputs": [],
   "source": []
  }
 ],
 "metadata": {
  "kernelspec": {
   "display_name": "pytorch_new",
   "language": "python",
   "name": "pytorch_new"
  },
  "language_info": {
   "codemirror_mode": {
    "name": "ipython",
    "version": 3
   },
   "file_extension": ".py",
   "mimetype": "text/x-python",
   "name": "python",
   "nbconvert_exporter": "python",
   "pygments_lexer": "ipython3",
   "version": "3.6.8"
  }
 },
 "nbformat": 4,
 "nbformat_minor": 2
}
